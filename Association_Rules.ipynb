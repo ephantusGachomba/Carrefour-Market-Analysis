{
  "nbformat": 4,
  "nbformat_minor": 0,
  "metadata": {
    "colab": {
      "name": "Association Rules",
      "provenance": [],
      "authorship_tag": "ABX9TyMVNWdnfX85Q/ryyHjKxBlb",
      "include_colab_link": true
    },
    "kernelspec": {
      "name": "ir",
      "display_name": "R"
    },
    "language_info": {
      "name": "R"
    }
  },
  "cells": [
    {
      "cell_type": "markdown",
      "metadata": {
        "id": "view-in-github",
        "colab_type": "text"
      },
      "source": [
        "<a href=\"https://colab.research.google.com/github/Tina-Mulu/Carrefour-Market-Analysis-using-R-.-Unsupervised-Learning/blob/main/Association_Rules.ipynb\" target=\"_parent\"><img src=\"https://colab.research.google.com/assets/colab-badge.svg\" alt=\"Open In Colab\"/></a>"
      ]
    },
    {
      "cell_type": "markdown",
      "metadata": {
        "id": "u7oCipRmAZQa"
      },
      "source": [
        "# **Part 3: Association Rules**"
      ]
    },
    {
      "cell_type": "markdown",
      "metadata": {
        "id": "VsOEVUl6AfnQ"
      },
      "source": [
        "This section will require that you create association rules that will allow you to identify relationships between variables in the dataset. You are provided with a separate dataset that comprises groups of items that will be associated with others. Just like in the other sections, you will also be required to provide insights for your analysis."
      ]
    },
    {
      "cell_type": "code",
      "metadata": {
        "colab": {
          "base_uri": "https://localhost:8080/"
        },
        "id": "ZBJxIgbBjfG5",
        "outputId": "55ec9c37-cc23-414a-82dd-067c843bd19a"
      },
      "source": [
        "# We first we install the required arules library \n",
        "#\n",
        "install.packages(\"arules\")\n",
        "# Loading the arules library\n",
        "#\n",
        "library(arules)"
      ],
      "execution_count": null,
      "outputs": [
        {
          "output_type": "stream",
          "text": [
            "Installing package into ‘/usr/local/lib/R/site-library’\n",
            "(as ‘lib’ is unspecified)\n",
            "\n",
            "Loading required package: Matrix\n",
            "\n",
            "\n",
            "Attaching package: ‘arules’\n",
            "\n",
            "\n",
            "The following objects are masked from ‘package:base’:\n",
            "\n",
            "    abbreviate, write\n",
            "\n",
            "\n"
          ],
          "name": "stderr"
        }
      ]
    },
    {
      "cell_type": "code",
      "metadata": {
        "colab": {
          "base_uri": "https://localhost:8080/",
          "height": 104
        },
        "id": "KGqN3MmkD3WZ",
        "outputId": "04f93b3f-43ca-464c-86be-f9fa66cc871b"
      },
      "source": [
        "# Loading our transactions dataset from our csv file\n",
        "path <-\"http://bit.ly/SupermarketDatasetII\"\n",
        "\n",
        "trans<-read.transactions(path, sep = \",\")\n",
        "trans"
      ],
      "execution_count": null,
      "outputs": [
        {
          "output_type": "stream",
          "text": [
            "Warning message in asMethod(object):\n",
            "“removing duplicated items in transactions”\n"
          ],
          "name": "stderr"
        },
        {
          "output_type": "display_data",
          "data": {
            "text/plain": [
              "transactions in sparse format with\n",
              " 7501 transactions (rows) and\n",
              " 119 items (columns)"
            ]
          },
          "metadata": {
            "tags": []
          }
        }
      ]
    },
    {
      "cell_type": "code",
      "metadata": {
        "colab": {
          "base_uri": "https://localhost:8080/",
          "height": 34
        },
        "id": "-I4ETDmrD_Z0",
        "outputId": "d1701982-0c90-49e0-fd79-adae20edf317"
      },
      "source": [
        "# Verifying the object's class\n",
        "class(trans)"
      ],
      "execution_count": null,
      "outputs": [
        {
          "output_type": "display_data",
          "data": {
            "text/plain": [
              "[1] \"transactions\"\n",
              "attr(,\"package\")\n",
              "[1] \"arules\""
            ],
            "text/latex": "'transactions'",
            "text/markdown": "'transactions'",
            "text/html": [
              "'transactions'"
            ]
          },
          "metadata": {
            "tags": []
          }
        }
      ]
    },
    {
      "cell_type": "code",
      "metadata": {
        "colab": {
          "base_uri": "https://localhost:8080/"
        },
        "id": "QQ7K2pWsEJ-B",
        "outputId": "7871e6b3-df2c-4313-9a1e-d5d89a9066f3"
      },
      "source": [
        "# Previewing our first 5 transactions\n",
        "#\n",
        "inspect(trans[1:5])"
      ],
      "execution_count": null,
      "outputs": [
        {
          "output_type": "stream",
          "text": [
            "    items              \n",
            "[1] {almonds,          \n",
            "     antioxydant juice,\n",
            "     avocado,          \n",
            "     cottage cheese,   \n",
            "     energy drink,     \n",
            "     frozen smoothie,  \n",
            "     green grapes,     \n",
            "     green tea,        \n",
            "     honey,            \n",
            "     low fat yogurt,   \n",
            "     mineral water,    \n",
            "     olive oil,        \n",
            "     salad,            \n",
            "     salmon,           \n",
            "     shrimp,           \n",
            "     spinach,          \n",
            "     tomato juice,     \n",
            "     vegetables mix,   \n",
            "     whole weat flour, \n",
            "     yams}             \n",
            "[2] {burgers,          \n",
            "     eggs,             \n",
            "     meatballs}        \n",
            "[3] {chutney}          \n",
            "[4] {avocado,          \n",
            "     turkey}           \n",
            "[5] {energy bar,       \n",
            "     green tea,        \n",
            "     milk,             \n",
            "     mineral water,    \n",
            "     whole wheat rice} \n"
          ],
          "name": "stdout"
        }
      ]
    },
    {
      "cell_type": "code",
      "metadata": {
        "colab": {
          "base_uri": "https://localhost:8080/",
          "height": 412
        },
        "id": "efWD6flCAu_V",
        "outputId": "f1ce1cca-7a50-4133-a4ab-f1aa2432be34"
      },
      "source": [
        "# If we wanted to preview the items that make up our dataset,\n",
        "# alternatively we can do the following\n",
        "# ---\n",
        "# \n",
        "items<-as.data.frame(itemLabels(trans))\n",
        "colnames(items) <- \"Item\"\n",
        "head(items, 10)"
      ],
      "execution_count": null,
      "outputs": [
        {
          "output_type": "display_data",
          "data": {
            "text/plain": [
              "   Item             \n",
              "1  almonds          \n",
              "2  antioxydant juice\n",
              "3  asparagus        \n",
              "4  avocado          \n",
              "5  babies food      \n",
              "6  bacon            \n",
              "7  barbecue sauce   \n",
              "8  black tea        \n",
              "9  blueberries      \n",
              "10 body spray       "
            ],
            "text/latex": "A data.frame: 10 × 1\n\\begin{tabular}{r|l}\n  & Item\\\\\n  & <chr>\\\\\n\\hline\n\t1 & almonds          \\\\\n\t2 & antioxydant juice\\\\\n\t3 & asparagus        \\\\\n\t4 & avocado          \\\\\n\t5 & babies food      \\\\\n\t6 & bacon            \\\\\n\t7 & barbecue sauce   \\\\\n\t8 & black tea        \\\\\n\t9 & blueberries      \\\\\n\t10 & body spray       \\\\\n\\end{tabular}\n",
            "text/markdown": "\nA data.frame: 10 × 1\n\n| <!--/--> | Item &lt;chr&gt; |\n|---|---|\n| 1 | almonds           |\n| 2 | antioxydant juice |\n| 3 | asparagus         |\n| 4 | avocado           |\n| 5 | babies food       |\n| 6 | bacon             |\n| 7 | barbecue sauce    |\n| 8 | black tea         |\n| 9 | blueberries       |\n| 10 | body spray        |\n\n",
            "text/html": [
              "<table class=\"dataframe\">\n",
              "<caption>A data.frame: 10 × 1</caption>\n",
              "<thead>\n",
              "\t<tr><th></th><th scope=col>Item</th></tr>\n",
              "\t<tr><th></th><th scope=col>&lt;chr&gt;</th></tr>\n",
              "</thead>\n",
              "<tbody>\n",
              "\t<tr><th scope=row>1</th><td>almonds          </td></tr>\n",
              "\t<tr><th scope=row>2</th><td>antioxydant juice</td></tr>\n",
              "\t<tr><th scope=row>3</th><td>asparagus        </td></tr>\n",
              "\t<tr><th scope=row>4</th><td>avocado          </td></tr>\n",
              "\t<tr><th scope=row>5</th><td>babies food      </td></tr>\n",
              "\t<tr><th scope=row>6</th><td>bacon            </td></tr>\n",
              "\t<tr><th scope=row>7</th><td>barbecue sauce   </td></tr>\n",
              "\t<tr><th scope=row>8</th><td>black tea        </td></tr>\n",
              "\t<tr><th scope=row>9</th><td>blueberries      </td></tr>\n",
              "\t<tr><th scope=row>10</th><td>body spray       </td></tr>\n",
              "</tbody>\n",
              "</table>\n"
            ]
          },
          "metadata": {
            "tags": []
          }
        }
      ]
    },
    {
      "cell_type": "code",
      "metadata": {
        "colab": {
          "base_uri": "https://localhost:8080/",
          "height": 450
        },
        "id": "MDKemNLNEtiz",
        "outputId": "c1c237ec-32a3-4336-e343-9854a0ac429c"
      },
      "source": [
        "# Generating a summary of the transaction dataset\n",
        "# ---\n",
        "# This would give us some information such as the most purchased items, \n",
        "# distribution of the item sets (no. of items purchased in each transaction), etc.\n",
        "# ---\n",
        "# \n",
        "summary(trans)"
      ],
      "execution_count": null,
      "outputs": [
        {
          "output_type": "display_data",
          "data": {
            "text/plain": [
              "transactions as itemMatrix in sparse format with\n",
              " 7501 rows (elements/itemsets/transactions) and\n",
              " 119 columns (items) and a density of 0.03288973 \n",
              "\n",
              "most frequent items:\n",
              "mineral water          eggs     spaghetti  french fries     chocolate \n",
              "         1788          1348          1306          1282          1229 \n",
              "      (Other) \n",
              "        22405 \n",
              "\n",
              "element (itemset/transaction) length distribution:\n",
              "sizes\n",
              "   1    2    3    4    5    6    7    8    9   10   11   12   13   14   15   16 \n",
              "1754 1358 1044  816  667  493  391  324  259  139  102   67   40   22   17    4 \n",
              "  18   19   20 \n",
              "   1    2    1 \n",
              "\n",
              "   Min. 1st Qu.  Median    Mean 3rd Qu.    Max. \n",
              "  1.000   2.000   3.000   3.914   5.000  20.000 \n",
              "\n",
              "includes extended item information - examples:\n",
              "             labels\n",
              "1           almonds\n",
              "2 antioxydant juice\n",
              "3         asparagus"
            ]
          },
          "metadata": {
            "tags": []
          }
        }
      ]
    },
    {
      "cell_type": "code",
      "metadata": {
        "colab": {
          "base_uri": "https://localhost:8080/",
          "height": 52
        },
        "id": "vsHc4ENYFpCg",
        "outputId": "fa170fb8-fcc6-4ccf-eafc-78a1e29d4588"
      },
      "source": [
        "# Exploring the frequency of some articles \n",
        "# i.e. transacations ranging from 7 to 10 and performing \n",
        "# some operation in percentage terms of the total transactions \n",
        "# \n",
        "itemFrequency(trans[, 7:10],type = \"absolute\")\n",
        "round(itemFrequency(trans[, 7:10],type = \"relative\")*100,2)"
      ],
      "execution_count": null,
      "outputs": [
        {
          "output_type": "display_data",
          "data": {
            "text/plain": [
              "barbecue sauce      black tea    blueberries     body spray \n",
              "            81            107             69             86 "
            ],
            "text/latex": "\\begin{description*}\n\\item[barbecue sauce] 81\n\\item[black tea] 107\n\\item[blueberries] 69\n\\item[body spray] 86\n\\end{description*}\n",
            "text/markdown": "barbecue sauce\n:   81black tea\n:   107blueberries\n:   69body spray\n:   86\n\n",
            "text/html": [
              "<style>\n",
              ".dl-inline {width: auto; margin:0; padding: 0}\n",
              ".dl-inline>dt, .dl-inline>dd {float: none; width: auto; display: inline-block}\n",
              ".dl-inline>dt::after {content: \":\\0020\"; padding-right: .5ex}\n",
              ".dl-inline>dt:not(:first-of-type) {padding-left: .5ex}\n",
              "</style><dl class=dl-inline><dt>barbecue sauce</dt><dd>81</dd><dt>black tea</dt><dd>107</dd><dt>blueberries</dt><dd>69</dd><dt>body spray</dt><dd>86</dd></dl>\n"
            ]
          },
          "metadata": {
            "tags": []
          }
        },
        {
          "output_type": "display_data",
          "data": {
            "text/plain": [
              "barbecue sauce      black tea    blueberries     body spray \n",
              "          1.08           1.43           0.92           1.15 "
            ],
            "text/latex": "\\begin{description*}\n\\item[barbecue sauce] 1.08\n\\item[black tea] 1.43\n\\item[blueberries] 0.92\n\\item[body spray] 1.15\n\\end{description*}\n",
            "text/markdown": "barbecue sauce\n:   1.08black tea\n:   1.43blueberries\n:   0.92body spray\n:   1.15\n\n",
            "text/html": [
              "<style>\n",
              ".dl-inline {width: auto; margin:0; padding: 0}\n",
              ".dl-inline>dt, .dl-inline>dd {float: none; width: auto; display: inline-block}\n",
              ".dl-inline>dt::after {content: \":\\0020\"; padding-right: .5ex}\n",
              ".dl-inline>dt:not(:first-of-type) {padding-left: .5ex}\n",
              "</style><dl class=dl-inline><dt>barbecue sauce</dt><dd>1.08</dd><dt>black tea</dt><dd>1.43</dd><dt>blueberries</dt><dd>0.92</dd><dt>body spray</dt><dd>1.15</dd></dl>\n"
            ]
          },
          "metadata": {
            "tags": []
          }
        }
      ]
    },
    {
      "cell_type": "code",
      "metadata": {
        "id": "eQJ8hLwaGInK"
      },
      "source": [
        "# Producing a chart of frequencies and fitering \n",
        "# to consider only items with a minimum percentage \n",
        "# of support/ considering a top x of items\n",
        "# ---\n",
        "# Displaying top 10 most common items in the transactions dataset \n",
        "# and the items whose relative importance is at least 10%\n",
        "# \n",
        "par(mfrow = c(1, 2))"
      ],
      "execution_count": null,
      "outputs": []
    },
    {
      "cell_type": "code",
      "metadata": {
        "colab": {
          "base_uri": "https://localhost:8080/",
          "height": 437
        },
        "id": "NIZny29IGMD_",
        "outputId": "a0e5307b-2f9c-45e0-bdb8-ec53cf4f661f"
      },
      "source": [
        "# Producing a chart of frequencies and fitering \n",
        "# to consider only items with a minimum percentage \n",
        "# of support/ considering a top x of items\n",
        "# ---\n",
        "# Displaying top 10 most common items in the transactions dataset \n",
        "# and the items whose relative importance is at least 10%\n",
        "# \n",
        "par(mfrow = c(1, 2))\n",
        "# plot the frequency of items\n",
        "itemFrequencyPlot(trans, topN = 10,col=\"darkgreen\")\n",
        "itemFrequencyPlot(trans, support = 0.1,col=\"darkred\")"
      ],
      "execution_count": null,
      "outputs": [
        {
          "output_type": "display_data",
          "data": {
            "image/png": "[encoded data removed]",
            "text/plain": [
              "plot without title"
            ]
          },
          "metadata": {
            "tags": [],
            "image/png": {
              "width": 420,
              "height": 420
            }
          }
        }
      ]
    },
    {
      "cell_type": "code",
      "metadata": {
        "colab": {
          "base_uri": "https://localhost:8080/",
          "height": 398
        },
        "id": "PQFhbr1xHgFp",
        "outputId": "b95d15e0-bac0-49ad-dcf6-d2c94a562001"
      },
      "source": [
        "# Building a model based on association rules \n",
        "# using the apriori function \n",
        "# ---\n",
        "# We use Min Support as 0.001 and confidence as 0.8\n",
        "# ---\n",
        "# \n",
        "rules <- apriori (trans, parameter = list(supp = 0.001, conf = 0.8))\n",
        "rules"
      ],
      "execution_count": null,
      "outputs": [
        {
          "output_type": "stream",
          "text": [
            "Apriori\n",
            "\n",
            "Parameter specification:\n",
            " confidence minval smax arem  aval originalSupport maxtime support minlen\n",
            "        0.8    0.1    1 none FALSE            TRUE       5   0.001      1\n",
            " maxlen target  ext\n",
            "     10  rules TRUE\n",
            "\n",
            "Algorithmic control:\n",
            " filter tree heap memopt load sort verbose\n",
            "    0.1 TRUE TRUE  FALSE TRUE    2    TRUE\n",
            "\n",
            "Absolute minimum support count: 7 \n",
            "\n",
            "set item appearances ...[0 item(s)] done [0.00s].\n",
            "set transactions ...[119 item(s), 7501 transaction(s)] done [0.00s].\n",
            "sorting and recoding items ... [116 item(s)] done [0.00s].\n",
            "creating transaction tree ... done [0.00s].\n",
            "checking subsets of size 1 2 3 4 5 6 done [0.01s].\n",
            "writing ... [74 rule(s)] done [0.00s].\n",
            "creating S4 object  ... done [0.00s].\n"
          ],
          "name": "stdout"
        },
        {
          "output_type": "display_data",
          "data": {
            "text/plain": [
              "set of 74 rules "
            ]
          },
          "metadata": {
            "tags": []
          }
        }
      ]
    },
    {
      "cell_type": "code",
      "metadata": {
        "colab": {
          "base_uri": "https://localhost:8080/",
          "height": 780
        },
        "id": "fs8_HKzjHtyH",
        "outputId": "2c5de29c-15c9-4dcb-9ddc-df62e2b5bff0"
      },
      "source": [
        "# We use measures of significance and interest on the rules, \n",
        "# determining which ones are interesting and which to discard.\n",
        "# ---\n",
        "# However since we built the model using 0.001 Min support \n",
        "# and confidence as 0.8 we obtained 410 rules.\n",
        "# However, in order to illustrate the sensitivity of the model to these two parameters, \n",
        "# we will see what happens if we increase the support or lower the confidence level\n",
        "# \n",
        "\n",
        "# Building a apriori model with Min Support as 0.002 and confidence as 0.8.\n",
        "rules2 <- apriori (trans,parameter = list(supp = 0.002, conf = 0.8)) \n",
        "\n",
        "# Building apriori model with Min Support as 0.002 and confidence as 0.6.\n",
        "rules3 <- apriori (trans, parameter = list(supp = 0.001, conf = 0.6)) \n",
        "\n",
        "rules2\n",
        "\n",
        "rules3"
      ],
      "execution_count": null,
      "outputs": [
        {
          "output_type": "stream",
          "text": [
            "Apriori\n",
            "\n",
            "Parameter specification:\n",
            " confidence minval smax arem  aval originalSupport maxtime support minlen\n",
            "        0.8    0.1    1 none FALSE            TRUE       5   0.002      1\n",
            " maxlen target  ext\n",
            "     10  rules TRUE\n",
            "\n",
            "Algorithmic control:\n",
            " filter tree heap memopt load sort verbose\n",
            "    0.1 TRUE TRUE  FALSE TRUE    2    TRUE\n",
            "\n",
            "Absolute minimum support count: 15 \n",
            "\n",
            "set item appearances ...[0 item(s)] done [0.00s].\n",
            "set transactions ...[119 item(s), 7501 transaction(s)] done [0.00s].\n",
            "sorting and recoding items ... [115 item(s)] done [0.00s].\n",
            "creating transaction tree ... done [0.00s].\n",
            "checking subsets of size 1 2 3 4 5 done [0.00s].\n",
            "writing ... [2 rule(s)] done [0.00s].\n",
            "creating S4 object  ... done [0.00s].\n",
            "Apriori\n",
            "\n",
            "Parameter specification:\n",
            " confidence minval smax arem  aval originalSupport maxtime support minlen\n",
            "        0.6    0.1    1 none FALSE            TRUE       5   0.001      1\n",
            " maxlen target  ext\n",
            "     10  rules TRUE\n",
            "\n",
            "Algorithmic control:\n",
            " filter tree heap memopt load sort verbose\n",
            "    0.1 TRUE TRUE  FALSE TRUE    2    TRUE\n",
            "\n",
            "Absolute minimum support count: 7 \n",
            "\n",
            "set item appearances ...[0 item(s)] done [0.00s].\n",
            "set transactions ...[119 item(s), 7501 transaction(s)] done [0.00s].\n",
            "sorting and recoding items ... [116 item(s)] done [0.00s].\n",
            "creating transaction tree ... done [0.00s].\n",
            "checking subsets of size 1 2 3 4 5 6 done [0.01s].\n",
            "writing ... [545 rule(s)] done [0.00s].\n",
            "creating S4 object  ... done [0.00s].\n"
          ],
          "name": "stdout"
        },
        {
          "output_type": "display_data",
          "data": {
            "text/plain": [
              "set of 2 rules "
            ]
          },
          "metadata": {
            "tags": []
          }
        },
        {
          "output_type": "display_data",
          "data": {
            "text/plain": [
              "set of 545 rules "
            ]
          },
          "metadata": {
            "tags": []
          }
        }
      ]
    },
    {
      "cell_type": "code",
      "metadata": {
        "colab": {
          "base_uri": "https://localhost:8080/",
          "height": 502
        },
        "id": "I6jcm4vyH05s",
        "outputId": "ae03319f-f630-4896-dde6-3f7d29d06ec0"
      },
      "source": [
        "# We can perform an exploration of our model \n",
        "# through the use of the summary function as shown\n",
        "# ---\n",
        "# Upon running the code, the function would give us information about the model \n",
        "# i.e. the size of rules, depending on the items that contain these rules. \n",
        "# In our above case, most rules have 3 and 4 items though some rules do have upto 6. \n",
        "# More statistical information such as support, lift and confidence is also provided.\n",
        "# ---\n",
        "# \n",
        "summary(rules)"
      ],
      "execution_count": null,
      "outputs": [
        {
          "output_type": "display_data",
          "data": {
            "text/plain": [
              "set of 74 rules\n",
              "\n",
              "rule length distribution (lhs + rhs):sizes\n",
              " 3  4  5  6 \n",
              "15 42 16  1 \n",
              "\n",
              "   Min. 1st Qu.  Median    Mean 3rd Qu.    Max. \n",
              "  3.000   4.000   4.000   4.041   4.000   6.000 \n",
              "\n",
              "summary of quality measures:\n",
              "    support           confidence        coverage             lift       \n",
              " Min.   :0.001067   Min.   :0.8000   Min.   :0.001067   Min.   : 3.356  \n",
              " 1st Qu.:0.001067   1st Qu.:0.8000   1st Qu.:0.001333   1st Qu.: 3.432  \n",
              " Median :0.001133   Median :0.8333   Median :0.001333   Median : 3.795  \n",
              " Mean   :0.001256   Mean   :0.8504   Mean   :0.001479   Mean   : 4.823  \n",
              " 3rd Qu.:0.001333   3rd Qu.:0.8889   3rd Qu.:0.001600   3rd Qu.: 4.877  \n",
              " Max.   :0.002533   Max.   :1.0000   Max.   :0.002666   Max.   :12.722  \n",
              "     count       \n",
              " Min.   : 8.000  \n",
              " 1st Qu.: 8.000  \n",
              " Median : 8.500  \n",
              " Mean   : 9.419  \n",
              " 3rd Qu.:10.000  \n",
              " Max.   :19.000  \n",
              "\n",
              "mining info:\n",
              "  data ntransactions support confidence\n",
              " trans          7501   0.001        0.8"
            ]
          },
          "metadata": {
            "tags": []
          }
        }
      ]
    },
    {
      "cell_type": "code",
      "metadata": {
        "colab": {
          "base_uri": "https://localhost:8080/"
        },
        "id": "4J0qRjmDIhxe",
        "outputId": "9c63491e-360f-40be-f383-73da549da0ef"
      },
      "source": [
        "# Observing rules built in our model i.e. first 5 model rules\n",
        "# ---\n",
        "# \n",
        "inspect(rules[1:5])"
      ],
      "execution_count": null,
      "outputs": [
        {
          "output_type": "stream",
          "text": [
            "    lhs                             rhs             support     confidence\n",
            "[1] {frozen smoothie,spinach}    => {mineral water} 0.001066524 0.8888889 \n",
            "[2] {bacon,pancakes}             => {spaghetti}     0.001733102 0.8125000 \n",
            "[3] {nonfat milk,turkey}         => {mineral water} 0.001199840 0.8181818 \n",
            "[4] {ground beef,nonfat milk}    => {mineral water} 0.001599787 0.8571429 \n",
            "[5] {mushroom cream sauce,pasta} => {escalope}      0.002532996 0.9500000 \n",
            "    coverage    lift      count\n",
            "[1] 0.001199840  3.729058  8   \n",
            "[2] 0.002133049  4.666587 13   \n",
            "[3] 0.001466471  3.432428  9   \n",
            "[4] 0.001866418  3.595877 12   \n",
            "[5] 0.002666311 11.976387 19   \n"
          ],
          "name": "stdout"
        }
      ]
    },
    {
      "cell_type": "code",
      "metadata": {
        "colab": {
          "base_uri": "https://localhost:8080/"
        },
        "id": "EcCjwiRWI4DY",
        "outputId": "3df0168b-b3e9-4997-9ac5-e799a3fbfa23"
      },
      "source": [
        "# Ordering these rules by a criteria such as the level of confidence\n",
        "# then looking at the first five rules.\n",
        "# We can also use different criteria such as: (by = \"lift\" or by = \"support\")\n",
        "# \n",
        "rules<-sort(rules, by=\"confidence\", decreasing=TRUE)\n",
        "inspect(rules[1:5])\n"
      ],
      "execution_count": null,
      "outputs": [
        {
          "output_type": "stream",
          "text": [
            "    lhs                                          rhs             support    \n",
            "[1] {french fries,mushroom cream sauce,pasta} => {escalope}      0.001066524\n",
            "[2] {ground beef,light cream,olive oil}       => {mineral water} 0.001199840\n",
            "[3] {cake,meatballs,mineral water}            => {milk}          0.001066524\n",
            "[4] {cake,olive oil,shrimp}                   => {mineral water} 0.001199840\n",
            "[5] {mushroom cream sauce,pasta}              => {escalope}      0.002532996\n",
            "    confidence coverage    lift      count\n",
            "[1] 1.00       0.001066524 12.606723  8   \n",
            "[2] 1.00       0.001199840  4.195190  9   \n",
            "[3] 1.00       0.001066524  7.717078  8   \n",
            "[4] 1.00       0.001199840  4.195190  9   \n",
            "[5] 0.95       0.002666311 11.976387 19   \n"
          ],
          "name": "stdout"
        }
      ]
    },
    {
      "cell_type": "code",
      "metadata": {
        "id": "QbDJ2mRbJTLI"
      },
      "source": [
        "# If we're interested in making a promotion relating to the sale of mineral water, \n",
        "# we could create a subset of rules concerning these products \n",
        "# ---\n",
        "# This would tell us the items that the customers bought before purchasing mineral water\n",
        "# ---\n",
        "# \n",
        "water <- subset(rules, subset = rhs %pin% \"mineral water\")"
      ],
      "execution_count": null,
      "outputs": []
    },
    {
      "cell_type": "code",
      "metadata": {
        "colab": {
          "base_uri": "https://localhost:8080/"
        },
        "id": "fR7iz6ARJuPC",
        "outputId": "b2371695-d643-4d13-b8eb-ba0d0dc81e98"
      },
      "source": [
        "# Then order by confidence\n",
        "water<-sort(water, by=\"confidence\", decreasing=TRUE)\n",
        "inspect(water[1:5])"
      ],
      "execution_count": null,
      "outputs": [
        {
          "output_type": "stream",
          "text": [
            "    lhs                    rhs                 support confidence    coverage     lift count\n",
            "[1] {ground beef,                                                                           \n",
            "     light cream,                                                                           \n",
            "     olive oil}         => {mineral water} 0.001199840  1.0000000 0.001199840 4.195190     9\n",
            "[2] {cake,                                                                                  \n",
            "     olive oil,                                                                             \n",
            "     shrimp}            => {mineral water} 0.001199840  1.0000000 0.001199840 4.195190     9\n",
            "[3] {red wine,                                                                              \n",
            "     soup}              => {mineral water} 0.001866418  0.9333333 0.001999733 3.915511    14\n",
            "[4] {ground beef,                                                                           \n",
            "     pancakes,                                                                              \n",
            "     whole wheat rice}  => {mineral water} 0.001333156  0.9090909 0.001466471 3.813809    10\n",
            "[5] {frozen vegetables,                                                                     \n",
            "     milk,                                                                                  \n",
            "     spaghetti,                                                                             \n",
            "     turkey}            => {mineral water} 0.001199840  0.9000000 0.001333156 3.775671     9\n"
          ],
          "name": "stdout"
        }
      ]
    },
    {
      "cell_type": "code",
      "metadata": {
        "colab": {
          "base_uri": "https://localhost:8080/"
        },
        "id": "_R3elGNgJ1Nh",
        "outputId": "af27a5e6-7e5e-4635-943c-9a65fe21c9d2"
      },
      "source": [
        "# What if we wanted to determine items that customers might buy \n",
        "# who have previously bought water?\n",
        "# ---\n",
        "# \n",
        "# Subset the rules\n",
        "water <- subset(rules, subset = lhs %pin% \"mineral water\")\n",
        "\n",
        "# Order by confidence\n",
        "water<-sort(water, by=\"confidence\", decreasing=TRUE)\n",
        "# inspect top 5\n",
        "inspect(water[1:5])"
      ],
      "execution_count": null,
      "outputs": [
        {
          "output_type": "stream",
          "text": [
            "    lhs                                   rhs           support     confidence\n",
            "[1] {cake,meatballs,mineral water}     => {milk}        0.001066524 1.0000000 \n",
            "[2] {eggs,mineral water,pasta}         => {shrimp}      0.001333156 0.9090909 \n",
            "[3] {herb & pepper,mineral water,rice} => {ground beef} 0.001333156 0.9090909 \n",
            "[4] {light cream,mineral water,shrimp} => {spaghetti}   0.001066524 0.8888889 \n",
            "[5] {grated cheese,mineral water,rice} => {ground beef} 0.001066524 0.8888889 \n",
            "    coverage    lift      count\n",
            "[1] 0.001066524  7.717078  8   \n",
            "[2] 0.001466471 12.722185 10   \n",
            "[3] 0.001466471  9.252498 10   \n",
            "[4] 0.001199840  5.105326  8   \n",
            "[5] 0.001199840  9.046887  8   \n"
          ],
          "name": "stdout"
        }
      ]
    },
    {
      "cell_type": "markdown",
      "metadata": {
        "id": "7vWRfUlm_948"
      },
      "source": [
        "from the analysis we  can see a customer who buys mineral water will also most likely buy milk, shrimp, spaghetti, ground beef. maybe they can work on arranging these goods in alignmnt at the Superarket if they want to increase their sales."
      ]
    }
  ]
}