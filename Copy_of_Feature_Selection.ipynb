{
  "nbformat": 4,
  "nbformat_minor": 0,
  "metadata": {
    "colab": {
      "name": "Copy of Feature Selection",
      "provenance": [],
      "toc_visible": true,
      "authorship_tag": "ABX9TyNuf/wFtI0RpcKRNlZG02VI",
      "include_colab_link": true
    },
    "kernelspec": {
      "display_name": "R",
      "name": "ir"
    },
    "language_info": {
      "name": "R"
    }
  },
  "cells": [
    {
      "cell_type": "markdown",
      "metadata": {
        "id": "view-in-github",
        "colab_type": "text"
      },
      "source": [
        "<a href=\"https://colab.research.google.com/github/Tina-Mulu/Carrefour-Market-Analysis-using-R-.-Unsupervised-Learning/blob/main/Copy_of_Feature_Selection.ipynb\" target=\"_parent\"><img src=\"https://colab.research.google.com/assets/colab-badge.svg\" alt=\"Open In Colab\"/></a>"
      ]
    },
    {
      "cell_type": "markdown",
      "metadata": {
        "id": "8DFleyIbBYBB"
      },
      "source": [
        "# **Filter Methods**"
      ]
    },
    {
      "cell_type": "markdown",
      "metadata": {
        "id": "54ITPiszI4op"
      },
      "source": [
        "This section requires you to perform feature selection through the use of the unsupervised learning methods learned earlier this week. You will be required to perform your analysis and provide insights on the features that contribute the most information to the dataset."
      ]
    },
    {
      "cell_type": "code",
      "metadata": {
        "colab": {
          "base_uri": "https://localhost:8080/",
          "height": 286
        },
        "id": "_K6Y8GyIALPa",
        "outputId": "4ce28287-3b9e-4be5-c26d-5bf09255e084"
      },
      "source": [
        "sales <- read.csv('Supermarket_Dataset_1 - Sales Data.csv')\n",
        "head(sales)"
      ],
      "execution_count": null,
      "outputs": [
        {
          "output_type": "display_data",
          "data": {
            "text/plain": [
              "  Invoice.ID  Branch Customer.type Gender Product.line           Unit.price\n",
              "1 750-67-8428 A      Member        Female Health and beauty      74.69     \n",
              "2 226-31-3081 C      Normal        Female Electronic accessories 15.28     \n",
              "3 631-41-3108 A      Normal        Male   Home and lifestyle     46.33     \n",
              "4 123-19-1176 A      Member        Male   Health and beauty      58.22     \n",
              "5 373-73-7910 A      Normal        Male   Sports and travel      86.31     \n",
              "6 699-14-3026 C      Normal        Male   Electronic accessories 85.39     \n",
              "  Quantity Tax     Date      Time  Payment     cogs   gross.margin.percentage\n",
              "1 7        26.1415 1/5/2019  13:08 Ewallet     522.83 4.761905               \n",
              "2 5         3.8200 3/8/2019  10:29 Cash         76.40 4.761905               \n",
              "3 7        16.2155 3/3/2019  13:23 Credit card 324.31 4.761905               \n",
              "4 8        23.2880 1/27/2019 20:33 Ewallet     465.76 4.761905               \n",
              "5 7        30.2085 2/8/2019  10:37 Ewallet     604.17 4.761905               \n",
              "6 7        29.8865 3/25/2019 18:30 Ewallet     597.73 4.761905               \n",
              "  gross.income Rating Total   \n",
              "1 26.1415      9.1    548.9715\n",
              "2  3.8200      9.6     80.2200\n",
              "3 16.2155      7.4    340.5255\n",
              "4 23.2880      8.4    489.0480\n",
              "5 30.2085      5.3    634.3785\n",
              "6 29.8865      4.1    627.6165"
            ],
            "text/latex": "A data.frame: 6 × 16\n\\begin{tabular}{r|llllllllllllllll}\n  & Invoice.ID & Branch & Customer.type & Gender & Product.line & Unit.price & Quantity & Tax & Date & Time & Payment & cogs & gross.margin.percentage & gross.income & Rating & Total\\\\\n  & <chr> & <chr> & <chr> & <chr> & <chr> & <dbl> & <int> & <dbl> & <chr> & <chr> & <chr> & <dbl> & <dbl> & <dbl> & <dbl> & <dbl>\\\\\n\\hline\n\t1 & 750-67-8428 & A & Member & Female & Health and beauty      & 74.69 & 7 & 26.1415 & 1/5/2019  & 13:08 & Ewallet     & 522.83 & 4.761905 & 26.1415 & 9.1 & 548.9715\\\\\n\t2 & 226-31-3081 & C & Normal & Female & Electronic accessories & 15.28 & 5 &  3.8200 & 3/8/2019  & 10:29 & Cash        &  76.40 & 4.761905 &  3.8200 & 9.6 &  80.2200\\\\\n\t3 & 631-41-3108 & A & Normal & Male   & Home and lifestyle     & 46.33 & 7 & 16.2155 & 3/3/2019  & 13:23 & Credit card & 324.31 & 4.761905 & 16.2155 & 7.4 & 340.5255\\\\\n\t4 & 123-19-1176 & A & Member & Male   & Health and beauty      & 58.22 & 8 & 23.2880 & 1/27/2019 & 20:33 & Ewallet     & 465.76 & 4.761905 & 23.2880 & 8.4 & 489.0480\\\\\n\t5 & 373-73-7910 & A & Normal & Male   & Sports and travel      & 86.31 & 7 & 30.2085 & 2/8/2019  & 10:37 & Ewallet     & 604.17 & 4.761905 & 30.2085 & 5.3 & 634.3785\\\\\n\t6 & 699-14-3026 & C & Normal & Male   & Electronic accessories & 85.39 & 7 & 29.8865 & 3/25/2019 & 18:30 & Ewallet     & 597.73 & 4.761905 & 29.8865 & 4.1 & 627.6165\\\\\n\\end{tabular}\n",
            "text/markdown": "\nA data.frame: 6 × 16\n\n| <!--/--> | Invoice.ID &lt;chr&gt; | Branch &lt;chr&gt; | Customer.type &lt;chr&gt; | Gender &lt;chr&gt; | Product.line &lt;chr&gt; | Unit.price &lt;dbl&gt; | Quantity &lt;int&gt; | Tax &lt;dbl&gt; | Date &lt;chr&gt; | Time &lt;chr&gt; | Payment &lt;chr&gt; | cogs &lt;dbl&gt; | gross.margin.percentage &lt;dbl&gt; | gross.income &lt;dbl&gt; | Rating &lt;dbl&gt; | Total &lt;dbl&gt; |\n|---|---|---|---|---|---|---|---|---|---|---|---|---|---|---|---|---|\n| 1 | 750-67-8428 | A | Member | Female | Health and beauty      | 74.69 | 7 | 26.1415 | 1/5/2019  | 13:08 | Ewallet     | 522.83 | 4.761905 | 26.1415 | 9.1 | 548.9715 |\n| 2 | 226-31-3081 | C | Normal | Female | Electronic accessories | 15.28 | 5 |  3.8200 | 3/8/2019  | 10:29 | Cash        |  76.40 | 4.761905 |  3.8200 | 9.6 |  80.2200 |\n| 3 | 631-41-3108 | A | Normal | Male   | Home and lifestyle     | 46.33 | 7 | 16.2155 | 3/3/2019  | 13:23 | Credit card | 324.31 | 4.761905 | 16.2155 | 7.4 | 340.5255 |\n| 4 | 123-19-1176 | A | Member | Male   | Health and beauty      | 58.22 | 8 | 23.2880 | 1/27/2019 | 20:33 | Ewallet     | 465.76 | 4.761905 | 23.2880 | 8.4 | 489.0480 |\n| 5 | 373-73-7910 | A | Normal | Male   | Sports and travel      | 86.31 | 7 | 30.2085 | 2/8/2019  | 10:37 | Ewallet     | 604.17 | 4.761905 | 30.2085 | 5.3 | 634.3785 |\n| 6 | 699-14-3026 | C | Normal | Male   | Electronic accessories | 85.39 | 7 | 29.8865 | 3/25/2019 | 18:30 | Ewallet     | 597.73 | 4.761905 | 29.8865 | 4.1 | 627.6165 |\n\n",
            "text/html": [
              "<table class=\"dataframe\">\n",
              "<caption>A data.frame: 6 × 16</caption>\n",
              "<thead>\n",
              "\t<tr><th></th><th scope=col>Invoice.ID</th><th scope=col>Branch</th><th scope=col>Customer.type</th><th scope=col>Gender</th><th scope=col>Product.line</th><th scope=col>Unit.price</th><th scope=col>Quantity</th><th scope=col>Tax</th><th scope=col>Date</th><th scope=col>Time</th><th scope=col>Payment</th><th scope=col>cogs</th><th scope=col>gross.margin.percentage</th><th scope=col>gross.income</th><th scope=col>Rating</th><th scope=col>Total</th></tr>\n",
              "\t<tr><th></th><th scope=col>&lt;chr&gt;</th><th scope=col>&lt;chr&gt;</th><th scope=col>&lt;chr&gt;</th><th scope=col>&lt;chr&gt;</th><th scope=col>&lt;chr&gt;</th><th scope=col>&lt;dbl&gt;</th><th scope=col>&lt;int&gt;</th><th scope=col>&lt;dbl&gt;</th><th scope=col>&lt;chr&gt;</th><th scope=col>&lt;chr&gt;</th><th scope=col>&lt;chr&gt;</th><th scope=col>&lt;dbl&gt;</th><th scope=col>&lt;dbl&gt;</th><th scope=col>&lt;dbl&gt;</th><th scope=col>&lt;dbl&gt;</th><th scope=col>&lt;dbl&gt;</th></tr>\n",
              "</thead>\n",
              "<tbody>\n",
              "\t<tr><th scope=row>1</th><td>750-67-8428</td><td>A</td><td>Member</td><td>Female</td><td>Health and beauty     </td><td>74.69</td><td>7</td><td>26.1415</td><td>1/5/2019 </td><td>13:08</td><td>Ewallet    </td><td>522.83</td><td>4.761905</td><td>26.1415</td><td>9.1</td><td>548.9715</td></tr>\n",
              "\t<tr><th scope=row>2</th><td>226-31-3081</td><td>C</td><td>Normal</td><td>Female</td><td>Electronic accessories</td><td>15.28</td><td>5</td><td> 3.8200</td><td>3/8/2019 </td><td>10:29</td><td>Cash       </td><td> 76.40</td><td>4.761905</td><td> 3.8200</td><td>9.6</td><td> 80.2200</td></tr>\n",
              "\t<tr><th scope=row>3</th><td>631-41-3108</td><td>A</td><td>Normal</td><td>Male  </td><td>Home and lifestyle    </td><td>46.33</td><td>7</td><td>16.2155</td><td>3/3/2019 </td><td>13:23</td><td>Credit card</td><td>324.31</td><td>4.761905</td><td>16.2155</td><td>7.4</td><td>340.5255</td></tr>\n",
              "\t<tr><th scope=row>4</th><td>123-19-1176</td><td>A</td><td>Member</td><td>Male  </td><td>Health and beauty     </td><td>58.22</td><td>8</td><td>23.2880</td><td>1/27/2019</td><td>20:33</td><td>Ewallet    </td><td>465.76</td><td>4.761905</td><td>23.2880</td><td>8.4</td><td>489.0480</td></tr>\n",
              "\t<tr><th scope=row>5</th><td>373-73-7910</td><td>A</td><td>Normal</td><td>Male  </td><td>Sports and travel     </td><td>86.31</td><td>7</td><td>30.2085</td><td>2/8/2019 </td><td>10:37</td><td>Ewallet    </td><td>604.17</td><td>4.761905</td><td>30.2085</td><td>5.3</td><td>634.3785</td></tr>\n",
              "\t<tr><th scope=row>6</th><td>699-14-3026</td><td>C</td><td>Normal</td><td>Male  </td><td>Electronic accessories</td><td>85.39</td><td>7</td><td>29.8865</td><td>3/25/2019</td><td>18:30</td><td>Ewallet    </td><td>597.73</td><td>4.761905</td><td>29.8865</td><td>4.1</td><td>627.6165</td></tr>\n",
              "</tbody>\n",
              "</table>\n"
            ]
          },
          "metadata": {
            "tags": []
          }
        }
      ]
    },
    {
      "cell_type": "code",
      "metadata": {
        "id": "lDlKBFFUBUn6"
      },
      "source": [
        "# Installing and loading our caret package\n",
        "# ---\n",
        "# \n",
        "suppressWarnings(\n",
        "        suppressMessages(if\n",
        "                         (!require(caret, quietly=TRUE))\n",
        "                install.packages(\"caret\")))\n",
        "library(caret)"
      ],
      "execution_count": null,
      "outputs": []
    },
    {
      "cell_type": "code",
      "metadata": {
        "id": "16tFQxuOCl4d"
      },
      "source": [
        "# Installing and loading the corrplot package for plotting\n",
        "# ---\n",
        "# \n",
        "suppressWarnings(\n",
        "        suppressMessages(if\n",
        "                         (!require(corrplot, quietly=TRUE))\n",
        "                install.packages(\"corrplot\")))\n",
        "library(corrplot)\n"
      ],
      "execution_count": null,
      "outputs": []
    },
    {
      "cell_type": "code",
      "metadata": {
        "colab": {
          "base_uri": "https://localhost:8080/"
        },
        "id": "qooNaBdYVi6H",
        "outputId": "06341cfd-124a-4bfe-f910-beda6d0cd3f7"
      },
      "source": [
        "install.packages(\"dplyr\")\n",
        "library(dplyr)"
      ],
      "execution_count": null,
      "outputs": [
        {
          "output_type": "stream",
          "text": [
            "Installing package into ‘/usr/local/lib/R/site-library’\n",
            "(as ‘lib’ is unspecified)\n",
            "\n",
            "\n",
            "Attaching package: ‘dplyr’\n",
            "\n",
            "\n",
            "The following objects are masked from ‘package:stats’:\n",
            "\n",
            "    filter, lag\n",
            "\n",
            "\n",
            "The following objects are masked from ‘package:base’:\n",
            "\n",
            "    intersect, setdiff, setequal, union\n",
            "\n",
            "\n"
          ],
          "name": "stderr"
        }
      ]
    },
    {
      "cell_type": "code",
      "metadata": {
        "colab": {
          "base_uri": "https://localhost:8080/",
          "height": 590
        },
        "id": "JbWQUVxGVSv1",
        "outputId": "ac7b39d9-64ba-44fd-83b6-a967e0185522"
      },
      "source": [
        "#First checking out the class of each column\n",
        "\n",
        "cls <- sapply(sales, class)\n",
        "cls\n",
        "\n",
        "#Next selecting Numeric Variables\n",
        "Numeric_Variables <- sales %>% select(which(cls != \"character\"))\n",
        "head(Numeric_Variables)\n",
        "\n",
        "\n",
        "#Excluding categorical numerical variables to remain with only continuous variables\n",
        "Continuous_Variables <- Numeric_Variables[,c(-2,-5)]\n",
        "head(Continuous_Variables)"
      ],
      "execution_count": null,
      "outputs": [
        {
          "output_type": "display_data",
          "data": {
            "text/plain": [
              "             Invoice.ID                  Branch           Customer.type \n",
              "            \"character\"             \"character\"             \"character\" \n",
              "                 Gender            Product.line              Unit.price \n",
              "            \"character\"             \"character\"               \"numeric\" \n",
              "               Quantity                     Tax                    Date \n",
              "              \"integer\"               \"numeric\"             \"character\" \n",
              "                   Time                 Payment                    cogs \n",
              "            \"character\"             \"character\"               \"numeric\" \n",
              "gross.margin.percentage            gross.income                  Rating \n",
              "              \"numeric\"               \"numeric\"               \"numeric\" \n",
              "                  Total \n",
              "              \"numeric\" "
            ],
            "text/latex": "\\begin{description*}\n\\item[Invoice.ID] 'character'\n\\item[Branch] 'character'\n\\item[Customer.type] 'character'\n\\item[Gender] 'character'\n\\item[Product.line] 'character'\n\\item[Unit.price] 'numeric'\n\\item[Quantity] 'integer'\n\\item[Tax] 'numeric'\n\\item[Date] 'character'\n\\item[Time] 'character'\n\\item[Payment] 'character'\n\\item[cogs] 'numeric'\n\\item[gross.margin.percentage] 'numeric'\n\\item[gross.income] 'numeric'\n\\item[Rating] 'numeric'\n\\item[Total] 'numeric'\n\\end{description*}\n",
            "text/markdown": "Invoice.ID\n:   'character'Branch\n:   'character'Customer.type\n:   'character'Gender\n:   'character'Product.line\n:   'character'Unit.price\n:   'numeric'Quantity\n:   'integer'Tax\n:   'numeric'Date\n:   'character'Time\n:   'character'Payment\n:   'character'cogs\n:   'numeric'gross.margin.percentage\n:   'numeric'gross.income\n:   'numeric'Rating\n:   'numeric'Total\n:   'numeric'\n\n",
            "text/html": [
              "<style>\n",
              ".dl-inline {width: auto; margin:0; padding: 0}\n",
              ".dl-inline>dt, .dl-inline>dd {float: none; width: auto; display: inline-block}\n",
              ".dl-inline>dt::after {content: \":\\0020\"; padding-right: .5ex}\n",
              ".dl-inline>dt:not(:first-of-type) {padding-left: .5ex}\n",
              "</style><dl class=dl-inline><dt>Invoice.ID</dt><dd>'character'</dd><dt>Branch</dt><dd>'character'</dd><dt>Customer.type</dt><dd>'character'</dd><dt>Gender</dt><dd>'character'</dd><dt>Product.line</dt><dd>'character'</dd><dt>Unit.price</dt><dd>'numeric'</dd><dt>Quantity</dt><dd>'integer'</dd><dt>Tax</dt><dd>'numeric'</dd><dt>Date</dt><dd>'character'</dd><dt>Time</dt><dd>'character'</dd><dt>Payment</dt><dd>'character'</dd><dt>cogs</dt><dd>'numeric'</dd><dt>gross.margin.percentage</dt><dd>'numeric'</dd><dt>gross.income</dt><dd>'numeric'</dd><dt>Rating</dt><dd>'numeric'</dd><dt>Total</dt><dd>'numeric'</dd></dl>\n"
            ]
          },
          "metadata": {
            "tags": []
          }
        },
        {
          "output_type": "display_data",
          "data": {
            "text/plain": [
              "  Unit.price Quantity Tax     cogs   gross.margin.percentage gross.income\n",
              "1 74.69      7        26.1415 522.83 4.761905                26.1415     \n",
              "2 15.28      5         3.8200  76.40 4.761905                 3.8200     \n",
              "3 46.33      7        16.2155 324.31 4.761905                16.2155     \n",
              "4 58.22      8        23.2880 465.76 4.761905                23.2880     \n",
              "5 86.31      7        30.2085 604.17 4.761905                30.2085     \n",
              "6 85.39      7        29.8865 597.73 4.761905                29.8865     \n",
              "  Rating Total   \n",
              "1 9.1    548.9715\n",
              "2 9.6     80.2200\n",
              "3 7.4    340.5255\n",
              "4 8.4    489.0480\n",
              "5 5.3    634.3785\n",
              "6 4.1    627.6165"
            ],
            "text/latex": "A data.frame: 6 × 8\n\\begin{tabular}{r|llllllll}\n  & Unit.price & Quantity & Tax & cogs & gross.margin.percentage & gross.income & Rating & Total\\\\\n  & <dbl> & <int> & <dbl> & <dbl> & <dbl> & <dbl> & <dbl> & <dbl>\\\\\n\\hline\n\t1 & 74.69 & 7 & 26.1415 & 522.83 & 4.761905 & 26.1415 & 9.1 & 548.9715\\\\\n\t2 & 15.28 & 5 &  3.8200 &  76.40 & 4.761905 &  3.8200 & 9.6 &  80.2200\\\\\n\t3 & 46.33 & 7 & 16.2155 & 324.31 & 4.761905 & 16.2155 & 7.4 & 340.5255\\\\\n\t4 & 58.22 & 8 & 23.2880 & 465.76 & 4.761905 & 23.2880 & 8.4 & 489.0480\\\\\n\t5 & 86.31 & 7 & 30.2085 & 604.17 & 4.761905 & 30.2085 & 5.3 & 634.3785\\\\\n\t6 & 85.39 & 7 & 29.8865 & 597.73 & 4.761905 & 29.8865 & 4.1 & 627.6165\\\\\n\\end{tabular}\n",
            "text/markdown": "\nA data.frame: 6 × 8\n\n| <!--/--> | Unit.price &lt;dbl&gt; | Quantity &lt;int&gt; | Tax &lt;dbl&gt; | cogs &lt;dbl&gt; | gross.margin.percentage &lt;dbl&gt; | gross.income &lt;dbl&gt; | Rating &lt;dbl&gt; | Total &lt;dbl&gt; |\n|---|---|---|---|---|---|---|---|---|\n| 1 | 74.69 | 7 | 26.1415 | 522.83 | 4.761905 | 26.1415 | 9.1 | 548.9715 |\n| 2 | 15.28 | 5 |  3.8200 |  76.40 | 4.761905 |  3.8200 | 9.6 |  80.2200 |\n| 3 | 46.33 | 7 | 16.2155 | 324.31 | 4.761905 | 16.2155 | 7.4 | 340.5255 |\n| 4 | 58.22 | 8 | 23.2880 | 465.76 | 4.761905 | 23.2880 | 8.4 | 489.0480 |\n| 5 | 86.31 | 7 | 30.2085 | 604.17 | 4.761905 | 30.2085 | 5.3 | 634.3785 |\n| 6 | 85.39 | 7 | 29.8865 | 597.73 | 4.761905 | 29.8865 | 4.1 | 627.6165 |\n\n",
            "text/html": [
              "<table class=\"dataframe\">\n",
              "<caption>A data.frame: 6 × 8</caption>\n",
              "<thead>\n",
              "\t<tr><th></th><th scope=col>Unit.price</th><th scope=col>Quantity</th><th scope=col>Tax</th><th scope=col>cogs</th><th scope=col>gross.margin.percentage</th><th scope=col>gross.income</th><th scope=col>Rating</th><th scope=col>Total</th></tr>\n",
              "\t<tr><th></th><th scope=col>&lt;dbl&gt;</th><th scope=col>&lt;int&gt;</th><th scope=col>&lt;dbl&gt;</th><th scope=col>&lt;dbl&gt;</th><th scope=col>&lt;dbl&gt;</th><th scope=col>&lt;dbl&gt;</th><th scope=col>&lt;dbl&gt;</th><th scope=col>&lt;dbl&gt;</th></tr>\n",
              "</thead>\n",
              "<tbody>\n",
              "\t<tr><th scope=row>1</th><td>74.69</td><td>7</td><td>26.1415</td><td>522.83</td><td>4.761905</td><td>26.1415</td><td>9.1</td><td>548.9715</td></tr>\n",
              "\t<tr><th scope=row>2</th><td>15.28</td><td>5</td><td> 3.8200</td><td> 76.40</td><td>4.761905</td><td> 3.8200</td><td>9.6</td><td> 80.2200</td></tr>\n",
              "\t<tr><th scope=row>3</th><td>46.33</td><td>7</td><td>16.2155</td><td>324.31</td><td>4.761905</td><td>16.2155</td><td>7.4</td><td>340.5255</td></tr>\n",
              "\t<tr><th scope=row>4</th><td>58.22</td><td>8</td><td>23.2880</td><td>465.76</td><td>4.761905</td><td>23.2880</td><td>8.4</td><td>489.0480</td></tr>\n",
              "\t<tr><th scope=row>5</th><td>86.31</td><td>7</td><td>30.2085</td><td>604.17</td><td>4.761905</td><td>30.2085</td><td>5.3</td><td>634.3785</td></tr>\n",
              "\t<tr><th scope=row>6</th><td>85.39</td><td>7</td><td>29.8865</td><td>597.73</td><td>4.761905</td><td>29.8865</td><td>4.1</td><td>627.6165</td></tr>\n",
              "</tbody>\n",
              "</table>\n"
            ]
          },
          "metadata": {
            "tags": []
          }
        },
        {
          "output_type": "display_data",
          "data": {
            "text/plain": [
              "  Unit.price Tax     cogs   gross.income Rating Total   \n",
              "1 74.69      26.1415 522.83 26.1415      9.1    548.9715\n",
              "2 15.28       3.8200  76.40  3.8200      9.6     80.2200\n",
              "3 46.33      16.2155 324.31 16.2155      7.4    340.5255\n",
              "4 58.22      23.2880 465.76 23.2880      8.4    489.0480\n",
              "5 86.31      30.2085 604.17 30.2085      5.3    634.3785\n",
              "6 85.39      29.8865 597.73 29.8865      4.1    627.6165"
            ],
            "text/latex": "A data.frame: 6 × 6\n\\begin{tabular}{r|llllll}\n  & Unit.price & Tax & cogs & gross.income & Rating & Total\\\\\n  & <dbl> & <dbl> & <dbl> & <dbl> & <dbl> & <dbl>\\\\\n\\hline\n\t1 & 74.69 & 26.1415 & 522.83 & 26.1415 & 9.1 & 548.9715\\\\\n\t2 & 15.28 &  3.8200 &  76.40 &  3.8200 & 9.6 &  80.2200\\\\\n\t3 & 46.33 & 16.2155 & 324.31 & 16.2155 & 7.4 & 340.5255\\\\\n\t4 & 58.22 & 23.2880 & 465.76 & 23.2880 & 8.4 & 489.0480\\\\\n\t5 & 86.31 & 30.2085 & 604.17 & 30.2085 & 5.3 & 634.3785\\\\\n\t6 & 85.39 & 29.8865 & 597.73 & 29.8865 & 4.1 & 627.6165\\\\\n\\end{tabular}\n",
            "text/markdown": "\nA data.frame: 6 × 6\n\n| <!--/--> | Unit.price &lt;dbl&gt; | Tax &lt;dbl&gt; | cogs &lt;dbl&gt; | gross.income &lt;dbl&gt; | Rating &lt;dbl&gt; | Total &lt;dbl&gt; |\n|---|---|---|---|---|---|---|\n| 1 | 74.69 | 26.1415 | 522.83 | 26.1415 | 9.1 | 548.9715 |\n| 2 | 15.28 |  3.8200 |  76.40 |  3.8200 | 9.6 |  80.2200 |\n| 3 | 46.33 | 16.2155 | 324.31 | 16.2155 | 7.4 | 340.5255 |\n| 4 | 58.22 | 23.2880 | 465.76 | 23.2880 | 8.4 | 489.0480 |\n| 5 | 86.31 | 30.2085 | 604.17 | 30.2085 | 5.3 | 634.3785 |\n| 6 | 85.39 | 29.8865 | 597.73 | 29.8865 | 4.1 | 627.6165 |\n\n",
            "text/html": [
              "<table class=\"dataframe\">\n",
              "<caption>A data.frame: 6 × 6</caption>\n",
              "<thead>\n",
              "\t<tr><th></th><th scope=col>Unit.price</th><th scope=col>Tax</th><th scope=col>cogs</th><th scope=col>gross.income</th><th scope=col>Rating</th><th scope=col>Total</th></tr>\n",
              "\t<tr><th></th><th scope=col>&lt;dbl&gt;</th><th scope=col>&lt;dbl&gt;</th><th scope=col>&lt;dbl&gt;</th><th scope=col>&lt;dbl&gt;</th><th scope=col>&lt;dbl&gt;</th><th scope=col>&lt;dbl&gt;</th></tr>\n",
              "</thead>\n",
              "<tbody>\n",
              "\t<tr><th scope=row>1</th><td>74.69</td><td>26.1415</td><td>522.83</td><td>26.1415</td><td>9.1</td><td>548.9715</td></tr>\n",
              "\t<tr><th scope=row>2</th><td>15.28</td><td> 3.8200</td><td> 76.40</td><td> 3.8200</td><td>9.6</td><td> 80.2200</td></tr>\n",
              "\t<tr><th scope=row>3</th><td>46.33</td><td>16.2155</td><td>324.31</td><td>16.2155</td><td>7.4</td><td>340.5255</td></tr>\n",
              "\t<tr><th scope=row>4</th><td>58.22</td><td>23.2880</td><td>465.76</td><td>23.2880</td><td>8.4</td><td>489.0480</td></tr>\n",
              "\t<tr><th scope=row>5</th><td>86.31</td><td>30.2085</td><td>604.17</td><td>30.2085</td><td>5.3</td><td>634.3785</td></tr>\n",
              "\t<tr><th scope=row>6</th><td>85.39</td><td>29.8865</td><td>597.73</td><td>29.8865</td><td>4.1</td><td>627.6165</td></tr>\n",
              "</tbody>\n",
              "</table>\n"
            ]
          },
          "metadata": {
            "tags": []
          }
        }
      ]
    },
    {
      "cell_type": "code",
      "metadata": {
        "colab": {
          "base_uri": "https://localhost:8080/",
          "height": 254
        },
        "id": "ibeVL3HPWFHi",
        "outputId": "3f4a9970-4111-4c04-9fab-19e06e34dddd"
      },
      "source": [
        "# Calculating the correlation matrix of only continuous variables\n",
        "#\n",
        "\n",
        "correlationMatrix <- cor(Continuous_Variables)\n",
        "correlationMatrix\n"
      ],
      "execution_count": null,
      "outputs": [
        {
          "output_type": "display_data",
          "data": {
            "text/plain": [
              "             Unit.price   Tax        cogs       gross.income Rating      \n",
              "Unit.price    1.000000000  0.6339621  0.6339621  0.6339621   -0.008777507\n",
              "Tax           0.633962089  1.0000000  1.0000000  1.0000000   -0.036441705\n",
              "cogs          0.633962089  1.0000000  1.0000000  1.0000000   -0.036441705\n",
              "gross.income  0.633962089  1.0000000  1.0000000  1.0000000   -0.036441705\n",
              "Rating       -0.008777507 -0.0364417 -0.0364417 -0.0364417    1.000000000\n",
              "Total         0.633962089  1.0000000  1.0000000  1.0000000   -0.036441705\n",
              "             Total     \n",
              "Unit.price    0.6339621\n",
              "Tax           1.0000000\n",
              "cogs          1.0000000\n",
              "gross.income  1.0000000\n",
              "Rating       -0.0364417\n",
              "Total         1.0000000"
            ],
            "text/latex": "A matrix: 6 × 6 of type dbl\n\\begin{tabular}{r|llllll}\n  & Unit.price & Tax & cogs & gross.income & Rating & Total\\\\\n\\hline\n\tUnit.price &  1.000000000 &  0.6339621 &  0.6339621 &  0.6339621 & -0.008777507 &  0.6339621\\\\\n\tTax &  0.633962089 &  1.0000000 &  1.0000000 &  1.0000000 & -0.036441705 &  1.0000000\\\\\n\tcogs &  0.633962089 &  1.0000000 &  1.0000000 &  1.0000000 & -0.036441705 &  1.0000000\\\\\n\tgross.income &  0.633962089 &  1.0000000 &  1.0000000 &  1.0000000 & -0.036441705 &  1.0000000\\\\\n\tRating & -0.008777507 & -0.0364417 & -0.0364417 & -0.0364417 &  1.000000000 & -0.0364417\\\\\n\tTotal &  0.633962089 &  1.0000000 &  1.0000000 &  1.0000000 & -0.036441705 &  1.0000000\\\\\n\\end{tabular}\n",
            "text/markdown": "\nA matrix: 6 × 6 of type dbl\n\n| <!--/--> | Unit.price | Tax | cogs | gross.income | Rating | Total |\n|---|---|---|---|---|---|---|\n| Unit.price |  1.000000000 |  0.6339621 |  0.6339621 |  0.6339621 | -0.008777507 |  0.6339621 |\n| Tax |  0.633962089 |  1.0000000 |  1.0000000 |  1.0000000 | -0.036441705 |  1.0000000 |\n| cogs |  0.633962089 |  1.0000000 |  1.0000000 |  1.0000000 | -0.036441705 |  1.0000000 |\n| gross.income |  0.633962089 |  1.0000000 |  1.0000000 |  1.0000000 | -0.036441705 |  1.0000000 |\n| Rating | -0.008777507 | -0.0364417 | -0.0364417 | -0.0364417 |  1.000000000 | -0.0364417 |\n| Total |  0.633962089 |  1.0000000 |  1.0000000 |  1.0000000 | -0.036441705 |  1.0000000 |\n\n",
            "text/html": [
              "<table class=\"dataframe\">\n",
              "<caption>A matrix: 6 × 6 of type dbl</caption>\n",
              "<thead>\n",
              "\t<tr><th></th><th scope=col>Unit.price</th><th scope=col>Tax</th><th scope=col>cogs</th><th scope=col>gross.income</th><th scope=col>Rating</th><th scope=col>Total</th></tr>\n",
              "</thead>\n",
              "<tbody>\n",
              "\t<tr><th scope=row>Unit.price</th><td> 1.000000000</td><td> 0.6339621</td><td> 0.6339621</td><td> 0.6339621</td><td>-0.008777507</td><td> 0.6339621</td></tr>\n",
              "\t<tr><th scope=row>Tax</th><td> 0.633962089</td><td> 1.0000000</td><td> 1.0000000</td><td> 1.0000000</td><td>-0.036441705</td><td> 1.0000000</td></tr>\n",
              "\t<tr><th scope=row>cogs</th><td> 0.633962089</td><td> 1.0000000</td><td> 1.0000000</td><td> 1.0000000</td><td>-0.036441705</td><td> 1.0000000</td></tr>\n",
              "\t<tr><th scope=row>gross.income</th><td> 0.633962089</td><td> 1.0000000</td><td> 1.0000000</td><td> 1.0000000</td><td>-0.036441705</td><td> 1.0000000</td></tr>\n",
              "\t<tr><th scope=row>Rating</th><td>-0.008777507</td><td>-0.0364417</td><td>-0.0364417</td><td>-0.0364417</td><td> 1.000000000</td><td>-0.0364417</td></tr>\n",
              "\t<tr><th scope=row>Total</th><td> 0.633962089</td><td> 1.0000000</td><td> 1.0000000</td><td> 1.0000000</td><td>-0.036441705</td><td> 1.0000000</td></tr>\n",
              "</tbody>\n",
              "</table>\n"
            ]
          },
          "metadata": {
            "tags": []
          }
        }
      ]
    },
    {
      "cell_type": "code",
      "metadata": {
        "colab": {
          "base_uri": "https://localhost:8080/",
          "height": 52
        },
        "id": "Xac9b4ozWPKe",
        "outputId": "2cbbefcd-99b6-42ea-eac7-d98ba55b0ba6"
      },
      "source": [
        "#Find attributes that are highly correlated\n",
        "#\n",
        "\n",
        "highlyCorrelated <- findCorrelation(correlationMatrix, cutoff=0.75)\n",
        "highlyCorrelated\n",
        "\n",
        "#Displaying the names of the hoghly correlated continuous variables\n",
        "names(Continuous_Variables[,highlyCorrelated])\n",
        "\n",
        "# Tax, cogs, and gross income are highly correlated"
      ],
      "execution_count": null,
      "outputs": [
        {
          "output_type": "display_data",
          "data": {
            "text/plain": [
              "[1] 2 3 4"
            ],
            "text/latex": "\\begin{enumerate*}\n\\item 2\n\\item 3\n\\item 4\n\\end{enumerate*}\n",
            "text/markdown": "1. 2\n2. 3\n3. 4\n\n\n",
            "text/html": [
              "<style>\n",
              ".list-inline {list-style: none; margin:0; padding: 0}\n",
              ".list-inline>li {display: inline-block}\n",
              ".list-inline>li:not(:last-child)::after {content: \"\\00b7\"; padding: 0 .5ex}\n",
              "</style>\n",
              "<ol class=list-inline><li>2</li><li>3</li><li>4</li></ol>\n"
            ]
          },
          "metadata": {
            "tags": []
          }
        },
        {
          "output_type": "display_data",
          "data": {
            "text/plain": [
              "[1] \"Tax\"          \"cogs\"         \"gross.income\""
            ],
            "text/latex": "\\begin{enumerate*}\n\\item 'Tax'\n\\item 'cogs'\n\\item 'gross.income'\n\\end{enumerate*}\n",
            "text/markdown": "1. 'Tax'\n2. 'cogs'\n3. 'gross.income'\n\n\n",
            "text/html": [
              "<style>\n",
              ".list-inline {list-style: none; margin:0; padding: 0}\n",
              ".list-inline>li {display: inline-block}\n",
              ".list-inline>li:not(:last-child)::after {content: \"\\00b7\"; padding: 0 .5ex}\n",
              "</style>\n",
              "<ol class=list-inline><li>'Tax'</li><li>'cogs'</li><li>'gross.income'</li></ol>\n"
            ]
          },
          "metadata": {
            "tags": []
          }
        }
      ]
    },
    {
      "cell_type": "code",
      "metadata": {
        "colab": {
          "base_uri": "https://localhost:8080/",
          "height": 286
        },
        "id": "eS0vq0YdWaz9",
        "outputId": "6ea53350-77fc-49d5-f5a1-51431e3df9e1"
      },
      "source": [
        "# Removing Redundant Features \n",
        "#\n",
        "\n",
        "Continuous_Variables2 <- Continuous_Variables[-highlyCorrelated]\n",
        "head(Continuous_Variables2)"
      ],
      "execution_count": null,
      "outputs": [
        {
          "output_type": "display_data",
          "data": {
            "text/plain": [
              "  Unit.price Rating Total   \n",
              "1 74.69      9.1    548.9715\n",
              "2 15.28      9.6     80.2200\n",
              "3 46.33      7.4    340.5255\n",
              "4 58.22      8.4    489.0480\n",
              "5 86.31      5.3    634.3785\n",
              "6 85.39      4.1    627.6165"
            ],
            "text/latex": "A data.frame: 6 × 3\n\\begin{tabular}{r|lll}\n  & Unit.price & Rating & Total\\\\\n  & <dbl> & <dbl> & <dbl>\\\\\n\\hline\n\t1 & 74.69 & 9.1 & 548.9715\\\\\n\t2 & 15.28 & 9.6 &  80.2200\\\\\n\t3 & 46.33 & 7.4 & 340.5255\\\\\n\t4 & 58.22 & 8.4 & 489.0480\\\\\n\t5 & 86.31 & 5.3 & 634.3785\\\\\n\t6 & 85.39 & 4.1 & 627.6165\\\\\n\\end{tabular}\n",
            "text/markdown": "\nA data.frame: 6 × 3\n\n| <!--/--> | Unit.price &lt;dbl&gt; | Rating &lt;dbl&gt; | Total &lt;dbl&gt; |\n|---|---|---|---|\n| 1 | 74.69 | 9.1 | 548.9715 |\n| 2 | 15.28 | 9.6 |  80.2200 |\n| 3 | 46.33 | 7.4 | 340.5255 |\n| 4 | 58.22 | 8.4 | 489.0480 |\n| 5 | 86.31 | 5.3 | 634.3785 |\n| 6 | 85.39 | 4.1 | 627.6165 |\n\n",
            "text/html": [
              "<table class=\"dataframe\">\n",
              "<caption>A data.frame: 6 × 3</caption>\n",
              "<thead>\n",
              "\t<tr><th></th><th scope=col>Unit.price</th><th scope=col>Rating</th><th scope=col>Total</th></tr>\n",
              "\t<tr><th></th><th scope=col>&lt;dbl&gt;</th><th scope=col>&lt;dbl&gt;</th><th scope=col>&lt;dbl&gt;</th></tr>\n",
              "</thead>\n",
              "<tbody>\n",
              "\t<tr><th scope=row>1</th><td>74.69</td><td>9.1</td><td>548.9715</td></tr>\n",
              "\t<tr><th scope=row>2</th><td>15.28</td><td>9.6</td><td> 80.2200</td></tr>\n",
              "\t<tr><th scope=row>3</th><td>46.33</td><td>7.4</td><td>340.5255</td></tr>\n",
              "\t<tr><th scope=row>4</th><td>58.22</td><td>8.4</td><td>489.0480</td></tr>\n",
              "\t<tr><th scope=row>5</th><td>86.31</td><td>5.3</td><td>634.3785</td></tr>\n",
              "\t<tr><th scope=row>6</th><td>85.39</td><td>4.1</td><td>627.6165</td></tr>\n",
              "</tbody>\n",
              "</table>\n"
            ]
          },
          "metadata": {
            "tags": []
          }
        }
      ]
    },
    {
      "cell_type": "code",
      "metadata": {
        "colab": {
          "base_uri": "https://localhost:8080/",
          "height": 437
        },
        "id": "qxZ_HvKEWtgD",
        "outputId": "afaaa39e-11f3-4f7b-9ae0-772a1870cee1"
      },
      "source": [
        "# Performing our graphical comparison\n",
        "# \n",
        "\n",
        "par(mfrow = c(1, 2))\n",
        "corrplot(correlationMatrix, order = \"hclust\")\n",
        "corrplot(cor(Continuous_Variables2), order = \"hclust\")\n",
        "\n",
        "# the variables left are not highly correlated"
      ],
      "execution_count": null,
      "outputs": [
        {
          "output_type": "display_data",
          "data": {
            "image/png": "[encoded data removed]",
            "text/plain": [
              "Plot with title “”"
            ]
          },
          "metadata": {
            "tags": [],
            "image/png": {
              "width": 420,
              "height": 420
            }
          }
        }
      ]
    },
    {
      "cell_type": "markdown",
      "metadata": {
        "id": "svE9K5j_XZwk"
      },
      "source": [
        "# **Wrapper Methods**"
      ]
    },
    {
      "cell_type": "code",
      "metadata": {
        "colab": {
          "base_uri": "https://localhost:8080/",
          "height": 653
        },
        "id": "tqc9g5wkZBMW",
        "outputId": "1576ddea-0d09-41f7-c633-4ed72fc90934"
      },
      "source": [
        "#One-hot encoding of categorical variables\n",
        "#\n",
        "\n",
        "install.packages('dummies')\n",
        "library(dummies)\n",
        "Sales <- dummy.data.frame(sales, names=c(\"Branch\",\"Customer.type\",\"Gender\",\"Product.line\",\n",
        "                \"Payment\"), sep=\"_\")\n",
        "head(Sales)"
      ],
      "execution_count": null,
      "outputs": [
        {
          "output_type": "stream",
          "text": [
            "Installing package into ‘/usr/local/lib/R/site-library’\n",
            "(as ‘lib’ is unspecified)\n",
            "\n",
            "Warning message in model.matrix.default(~x - 1, model.frame(~x - 1), contrasts = FALSE):\n",
            "“non-list contrasts argument ignored”\n",
            "Warning message in model.matrix.default(~x - 1, model.frame(~x - 1), contrasts = FALSE):\n",
            "“non-list contrasts argument ignored”\n",
            "Warning message in model.matrix.default(~x - 1, model.frame(~x - 1), contrasts = FALSE):\n",
            "“non-list contrasts argument ignored”\n",
            "Warning message in model.matrix.default(~x - 1, model.frame(~x - 1), contrasts = FALSE):\n",
            "“non-list contrasts argument ignored”\n",
            "Warning message in model.matrix.default(~x - 1, model.frame(~x - 1), contrasts = FALSE):\n",
            "“non-list contrasts argument ignored”\n"
          ],
          "name": "stderr"
        },
        {
          "output_type": "display_data",
          "data": {
            "text/plain": [
              "  Invoice.ID  Branch_A Branch_B Branch_C Customer.type_Member\n",
              "1 750-67-8428 1        0        0        1                   \n",
              "2 226-31-3081 0        0        1        0                   \n",
              "3 631-41-3108 1        0        0        0                   \n",
              "4 123-19-1176 1        0        0        1                   \n",
              "5 373-73-7910 1        0        0        0                   \n",
              "6 699-14-3026 0        0        1        0                   \n",
              "  Customer.type_Normal Gender_Female Gender_Male\n",
              "1 0                    1             0          \n",
              "2 1                    1             0          \n",
              "3 1                    0             1          \n",
              "4 0                    0             1          \n",
              "5 1                    0             1          \n",
              "6 1                    0             1          \n",
              "  Product.line_Electronic accessories Product.line_Fashion accessories ⋯\n",
              "1 0                                   0                                ⋯\n",
              "2 1                                   0                                ⋯\n",
              "3 0                                   0                                ⋯\n",
              "4 0                                   0                                ⋯\n",
              "5 0                                   0                                ⋯\n",
              "6 1                                   0                                ⋯\n",
              "  Date      Time  Payment_Cash Payment_Credit card Payment_Ewallet cogs  \n",
              "1 1/5/2019  13:08 0            0                   1               522.83\n",
              "2 3/8/2019  10:29 1            0                   0                76.40\n",
              "3 3/3/2019  13:23 0            1                   0               324.31\n",
              "4 1/27/2019 20:33 0            0                   1               465.76\n",
              "5 2/8/2019  10:37 0            0                   1               604.17\n",
              "6 3/25/2019 18:30 0            0                   1               597.73\n",
              "  gross.margin.percentage gross.income Rating Total   \n",
              "1 4.761905                26.1415      9.1    548.9715\n",
              "2 4.761905                 3.8200      9.6     80.2200\n",
              "3 4.761905                16.2155      7.4    340.5255\n",
              "4 4.761905                23.2880      8.4    489.0480\n",
              "5 4.761905                30.2085      5.3    634.3785\n",
              "6 4.761905                29.8865      4.1    627.6165"
            ],
            "text/latex": "A data.frame: 6 × 27\n\\begin{tabular}{r|lllllllllllllllllllll}\n  & Invoice.ID & Branch\\_A & Branch\\_B & Branch\\_C & Customer.type\\_Member & Customer.type\\_Normal & Gender\\_Female & Gender\\_Male & Product.line\\_Electronic accessories & Product.line\\_Fashion accessories & ⋯ & Date & Time & Payment\\_Cash & Payment\\_Credit card & Payment\\_Ewallet & cogs & gross.margin.percentage & gross.income & Rating & Total\\\\\n  & <chr> & <int> & <int> & <int> & <int> & <int> & <int> & <int> & <int> & <int> & ⋯ & <chr> & <chr> & <int> & <int> & <int> & <dbl> & <dbl> & <dbl> & <dbl> & <dbl>\\\\\n\\hline\n\t1 & 750-67-8428 & 1 & 0 & 0 & 1 & 0 & 1 & 0 & 0 & 0 & ⋯ & 1/5/2019  & 13:08 & 0 & 0 & 1 & 522.83 & 4.761905 & 26.1415 & 9.1 & 548.9715\\\\\n\t2 & 226-31-3081 & 0 & 0 & 1 & 0 & 1 & 1 & 0 & 1 & 0 & ⋯ & 3/8/2019  & 10:29 & 1 & 0 & 0 &  76.40 & 4.761905 &  3.8200 & 9.6 &  80.2200\\\\\n\t3 & 631-41-3108 & 1 & 0 & 0 & 0 & 1 & 0 & 1 & 0 & 0 & ⋯ & 3/3/2019  & 13:23 & 0 & 1 & 0 & 324.31 & 4.761905 & 16.2155 & 7.4 & 340.5255\\\\\n\t4 & 123-19-1176 & 1 & 0 & 0 & 1 & 0 & 0 & 1 & 0 & 0 & ⋯ & 1/27/2019 & 20:33 & 0 & 0 & 1 & 465.76 & 4.761905 & 23.2880 & 8.4 & 489.0480\\\\\n\t5 & 373-73-7910 & 1 & 0 & 0 & 0 & 1 & 0 & 1 & 0 & 0 & ⋯ & 2/8/2019  & 10:37 & 0 & 0 & 1 & 604.17 & 4.761905 & 30.2085 & 5.3 & 634.3785\\\\\n\t6 & 699-14-3026 & 0 & 0 & 1 & 0 & 1 & 0 & 1 & 1 & 0 & ⋯ & 3/25/2019 & 18:30 & 0 & 0 & 1 & 597.73 & 4.761905 & 29.8865 & 4.1 & 627.6165\\\\\n\\end{tabular}\n",
            "text/markdown": "\nA data.frame: 6 × 27\n\n| <!--/--> | Invoice.ID &lt;chr&gt; | Branch_A &lt;int&gt; | Branch_B &lt;int&gt; | Branch_C &lt;int&gt; | Customer.type_Member &lt;int&gt; | Customer.type_Normal &lt;int&gt; | Gender_Female &lt;int&gt; | Gender_Male &lt;int&gt; | Product.line_Electronic accessories &lt;int&gt; | Product.line_Fashion accessories &lt;int&gt; | ⋯ ⋯ | Date &lt;chr&gt; | Time &lt;chr&gt; | Payment_Cash &lt;int&gt; | Payment_Credit card &lt;int&gt; | Payment_Ewallet &lt;int&gt; | cogs &lt;dbl&gt; | gross.margin.percentage &lt;dbl&gt; | gross.income &lt;dbl&gt; | Rating &lt;dbl&gt; | Total &lt;dbl&gt; |\n|---|---|---|---|---|---|---|---|---|---|---|---|---|---|---|---|---|---|---|---|---|---|\n| 1 | 750-67-8428 | 1 | 0 | 0 | 1 | 0 | 1 | 0 | 0 | 0 | ⋯ | 1/5/2019  | 13:08 | 0 | 0 | 1 | 522.83 | 4.761905 | 26.1415 | 9.1 | 548.9715 |\n| 2 | 226-31-3081 | 0 | 0 | 1 | 0 | 1 | 1 | 0 | 1 | 0 | ⋯ | 3/8/2019  | 10:29 | 1 | 0 | 0 |  76.40 | 4.761905 |  3.8200 | 9.6 |  80.2200 |\n| 3 | 631-41-3108 | 1 | 0 | 0 | 0 | 1 | 0 | 1 | 0 | 0 | ⋯ | 3/3/2019  | 13:23 | 0 | 1 | 0 | 324.31 | 4.761905 | 16.2155 | 7.4 | 340.5255 |\n| 4 | 123-19-1176 | 1 | 0 | 0 | 1 | 0 | 0 | 1 | 0 | 0 | ⋯ | 1/27/2019 | 20:33 | 0 | 0 | 1 | 465.76 | 4.761905 | 23.2880 | 8.4 | 489.0480 |\n| 5 | 373-73-7910 | 1 | 0 | 0 | 0 | 1 | 0 | 1 | 0 | 0 | ⋯ | 2/8/2019  | 10:37 | 0 | 0 | 1 | 604.17 | 4.761905 | 30.2085 | 5.3 | 634.3785 |\n| 6 | 699-14-3026 | 0 | 0 | 1 | 0 | 1 | 0 | 1 | 1 | 0 | ⋯ | 3/25/2019 | 18:30 | 0 | 0 | 1 | 597.73 | 4.761905 | 29.8865 | 4.1 | 627.6165 |\n\n",
            "text/html": [
              "<table class=\"dataframe\">\n",
              "<caption>A data.frame: 6 × 27</caption>\n",
              "<thead>\n",
              "\t<tr><th></th><th scope=col>Invoice.ID</th><th scope=col>Branch_A</th><th scope=col>Branch_B</th><th scope=col>Branch_C</th><th scope=col>Customer.type_Member</th><th scope=col>Customer.type_Normal</th><th scope=col>Gender_Female</th><th scope=col>Gender_Male</th><th scope=col>Product.line_Electronic accessories</th><th scope=col>Product.line_Fashion accessories</th><th scope=col>⋯</th><th scope=col>Date</th><th scope=col>Time</th><th scope=col>Payment_Cash</th><th scope=col>Payment_Credit card</th><th scope=col>Payment_Ewallet</th><th scope=col>cogs</th><th scope=col>gross.margin.percentage</th><th scope=col>gross.income</th><th scope=col>Rating</th><th scope=col>Total</th></tr>\n",
              "\t<tr><th></th><th scope=col>&lt;chr&gt;</th><th scope=col>&lt;int&gt;</th><th scope=col>&lt;int&gt;</th><th scope=col>&lt;int&gt;</th><th scope=col>&lt;int&gt;</th><th scope=col>&lt;int&gt;</th><th scope=col>&lt;int&gt;</th><th scope=col>&lt;int&gt;</th><th scope=col>&lt;int&gt;</th><th scope=col>&lt;int&gt;</th><th scope=col>⋯</th><th scope=col>&lt;chr&gt;</th><th scope=col>&lt;chr&gt;</th><th scope=col>&lt;int&gt;</th><th scope=col>&lt;int&gt;</th><th scope=col>&lt;int&gt;</th><th scope=col>&lt;dbl&gt;</th><th scope=col>&lt;dbl&gt;</th><th scope=col>&lt;dbl&gt;</th><th scope=col>&lt;dbl&gt;</th><th scope=col>&lt;dbl&gt;</th></tr>\n",
              "</thead>\n",
              "<tbody>\n",
              "\t<tr><th scope=row>1</th><td>750-67-8428</td><td>1</td><td>0</td><td>0</td><td>1</td><td>0</td><td>1</td><td>0</td><td>0</td><td>0</td><td>⋯</td><td>1/5/2019 </td><td>13:08</td><td>0</td><td>0</td><td>1</td><td>522.83</td><td>4.761905</td><td>26.1415</td><td>9.1</td><td>548.9715</td></tr>\n",
              "\t<tr><th scope=row>2</th><td>226-31-3081</td><td>0</td><td>0</td><td>1</td><td>0</td><td>1</td><td>1</td><td>0</td><td>1</td><td>0</td><td>⋯</td><td>3/8/2019 </td><td>10:29</td><td>1</td><td>0</td><td>0</td><td> 76.40</td><td>4.761905</td><td> 3.8200</td><td>9.6</td><td> 80.2200</td></tr>\n",
              "\t<tr><th scope=row>3</th><td>631-41-3108</td><td>1</td><td>0</td><td>0</td><td>0</td><td>1</td><td>0</td><td>1</td><td>0</td><td>0</td><td>⋯</td><td>3/3/2019 </td><td>13:23</td><td>0</td><td>1</td><td>0</td><td>324.31</td><td>4.761905</td><td>16.2155</td><td>7.4</td><td>340.5255</td></tr>\n",
              "\t<tr><th scope=row>4</th><td>123-19-1176</td><td>1</td><td>0</td><td>0</td><td>1</td><td>0</td><td>0</td><td>1</td><td>0</td><td>0</td><td>⋯</td><td>1/27/2019</td><td>20:33</td><td>0</td><td>0</td><td>1</td><td>465.76</td><td>4.761905</td><td>23.2880</td><td>8.4</td><td>489.0480</td></tr>\n",
              "\t<tr><th scope=row>5</th><td>373-73-7910</td><td>1</td><td>0</td><td>0</td><td>0</td><td>1</td><td>0</td><td>1</td><td>0</td><td>0</td><td>⋯</td><td>2/8/2019 </td><td>10:37</td><td>0</td><td>0</td><td>1</td><td>604.17</td><td>4.761905</td><td>30.2085</td><td>5.3</td><td>634.3785</td></tr>\n",
              "\t<tr><th scope=row>6</th><td>699-14-3026</td><td>0</td><td>0</td><td>1</td><td>0</td><td>1</td><td>0</td><td>1</td><td>1</td><td>0</td><td>⋯</td><td>3/25/2019</td><td>18:30</td><td>0</td><td>0</td><td>1</td><td>597.73</td><td>4.761905</td><td>29.8865</td><td>4.1</td><td>627.6165</td></tr>\n",
              "</tbody>\n",
              "</table>\n"
            ]
          },
          "metadata": {
            "tags": []
          }
        }
      ]
    },
    {
      "cell_type": "code",
      "metadata": {
        "colab": {
          "base_uri": "https://localhost:8080/",
          "height": 653
        },
        "id": "rcMaJuCfZA2a",
        "outputId": "8d621c38-9801-41cb-82bc-20e5831fa8c0"
      },
      "source": [
        "#One-hot encoding of categorical variables\n",
        "#\n",
        "\n",
        "install.packages('dummies')\n",
        "library(dummies)\n",
        "Sales <- dummy.data.frame(sales, names=c(\"Branch\",\"Customer.type\",\"Gender\",\"Product.line\",\n",
        "                \"Payment\"), sep=\"_\")\n",
        "head(Sales)"
      ],
      "execution_count": null,
      "outputs": [
        {
          "output_type": "stream",
          "text": [
            "Installing package into ‘/usr/local/lib/R/site-library’\n",
            "(as ‘lib’ is unspecified)\n",
            "\n",
            "Warning message in model.matrix.default(~x - 1, model.frame(~x - 1), contrasts = FALSE):\n",
            "“non-list contrasts argument ignored”\n",
            "Warning message in model.matrix.default(~x - 1, model.frame(~x - 1), contrasts = FALSE):\n",
            "“non-list contrasts argument ignored”\n",
            "Warning message in model.matrix.default(~x - 1, model.frame(~x - 1), contrasts = FALSE):\n",
            "“non-list contrasts argument ignored”\n",
            "Warning message in model.matrix.default(~x - 1, model.frame(~x - 1), contrasts = FALSE):\n",
            "“non-list contrasts argument ignored”\n",
            "Warning message in model.matrix.default(~x - 1, model.frame(~x - 1), contrasts = FALSE):\n",
            "“non-list contrasts argument ignored”\n"
          ],
          "name": "stderr"
        },
        {
          "output_type": "display_data",
          "data": {
            "text/plain": [
              "  Invoice.ID  Branch_A Branch_B Branch_C Customer.type_Member\n",
              "1 750-67-8428 1        0        0        1                   \n",
              "2 226-31-3081 0        0        1        0                   \n",
              "3 631-41-3108 1        0        0        0                   \n",
              "4 123-19-1176 1        0        0        1                   \n",
              "5 373-73-7910 1        0        0        0                   \n",
              "6 699-14-3026 0        0        1        0                   \n",
              "  Customer.type_Normal Gender_Female Gender_Male\n",
              "1 0                    1             0          \n",
              "2 1                    1             0          \n",
              "3 1                    0             1          \n",
              "4 0                    0             1          \n",
              "5 1                    0             1          \n",
              "6 1                    0             1          \n",
              "  Product.line_Electronic accessories Product.line_Fashion accessories ⋯\n",
              "1 0                                   0                                ⋯\n",
              "2 1                                   0                                ⋯\n",
              "3 0                                   0                                ⋯\n",
              "4 0                                   0                                ⋯\n",
              "5 0                                   0                                ⋯\n",
              "6 1                                   0                                ⋯\n",
              "  Date      Time  Payment_Cash Payment_Credit card Payment_Ewallet cogs  \n",
              "1 1/5/2019  13:08 0            0                   1               522.83\n",
              "2 3/8/2019  10:29 1            0                   0                76.40\n",
              "3 3/3/2019  13:23 0            1                   0               324.31\n",
              "4 1/27/2019 20:33 0            0                   1               465.76\n",
              "5 2/8/2019  10:37 0            0                   1               604.17\n",
              "6 3/25/2019 18:30 0            0                   1               597.73\n",
              "  gross.margin.percentage gross.income Rating Total   \n",
              "1 4.761905                26.1415      9.1    548.9715\n",
              "2 4.761905                 3.8200      9.6     80.2200\n",
              "3 4.761905                16.2155      7.4    340.5255\n",
              "4 4.761905                23.2880      8.4    489.0480\n",
              "5 4.761905                30.2085      5.3    634.3785\n",
              "6 4.761905                29.8865      4.1    627.6165"
            ],
            "text/latex": "A data.frame: 6 × 27\n\\begin{tabular}{r|lllllllllllllllllllll}\n  & Invoice.ID & Branch\\_A & Branch\\_B & Branch\\_C & Customer.type\\_Member & Customer.type\\_Normal & Gender\\_Female & Gender\\_Male & Product.line\\_Electronic accessories & Product.line\\_Fashion accessories & ⋯ & Date & Time & Payment\\_Cash & Payment\\_Credit card & Payment\\_Ewallet & cogs & gross.margin.percentage & gross.income & Rating & Total\\\\\n  & <chr> & <int> & <int> & <int> & <int> & <int> & <int> & <int> & <int> & <int> & ⋯ & <chr> & <chr> & <int> & <int> & <int> & <dbl> & <dbl> & <dbl> & <dbl> & <dbl>\\\\\n\\hline\n\t1 & 750-67-8428 & 1 & 0 & 0 & 1 & 0 & 1 & 0 & 0 & 0 & ⋯ & 1/5/2019  & 13:08 & 0 & 0 & 1 & 522.83 & 4.761905 & 26.1415 & 9.1 & 548.9715\\\\\n\t2 & 226-31-3081 & 0 & 0 & 1 & 0 & 1 & 1 & 0 & 1 & 0 & ⋯ & 3/8/2019  & 10:29 & 1 & 0 & 0 &  76.40 & 4.761905 &  3.8200 & 9.6 &  80.2200\\\\\n\t3 & 631-41-3108 & 1 & 0 & 0 & 0 & 1 & 0 & 1 & 0 & 0 & ⋯ & 3/3/2019  & 13:23 & 0 & 1 & 0 & 324.31 & 4.761905 & 16.2155 & 7.4 & 340.5255\\\\\n\t4 & 123-19-1176 & 1 & 0 & 0 & 1 & 0 & 0 & 1 & 0 & 0 & ⋯ & 1/27/2019 & 20:33 & 0 & 0 & 1 & 465.76 & 4.761905 & 23.2880 & 8.4 & 489.0480\\\\\n\t5 & 373-73-7910 & 1 & 0 & 0 & 0 & 1 & 0 & 1 & 0 & 0 & ⋯ & 2/8/2019  & 10:37 & 0 & 0 & 1 & 604.17 & 4.761905 & 30.2085 & 5.3 & 634.3785\\\\\n\t6 & 699-14-3026 & 0 & 0 & 1 & 0 & 1 & 0 & 1 & 1 & 0 & ⋯ & 3/25/2019 & 18:30 & 0 & 0 & 1 & 597.73 & 4.761905 & 29.8865 & 4.1 & 627.6165\\\\\n\\end{tabular}\n",
            "text/markdown": "\nA data.frame: 6 × 27\n\n| <!--/--> | Invoice.ID &lt;chr&gt; | Branch_A &lt;int&gt; | Branch_B &lt;int&gt; | Branch_C &lt;int&gt; | Customer.type_Member &lt;int&gt; | Customer.type_Normal &lt;int&gt; | Gender_Female &lt;int&gt; | Gender_Male &lt;int&gt; | Product.line_Electronic accessories &lt;int&gt; | Product.line_Fashion accessories &lt;int&gt; | ⋯ ⋯ | Date &lt;chr&gt; | Time &lt;chr&gt; | Payment_Cash &lt;int&gt; | Payment_Credit card &lt;int&gt; | Payment_Ewallet &lt;int&gt; | cogs &lt;dbl&gt; | gross.margin.percentage &lt;dbl&gt; | gross.income &lt;dbl&gt; | Rating &lt;dbl&gt; | Total &lt;dbl&gt; |\n|---|---|---|---|---|---|---|---|---|---|---|---|---|---|---|---|---|---|---|---|---|---|\n| 1 | 750-67-8428 | 1 | 0 | 0 | 1 | 0 | 1 | 0 | 0 | 0 | ⋯ | 1/5/2019  | 13:08 | 0 | 0 | 1 | 522.83 | 4.761905 | 26.1415 | 9.1 | 548.9715 |\n| 2 | 226-31-3081 | 0 | 0 | 1 | 0 | 1 | 1 | 0 | 1 | 0 | ⋯ | 3/8/2019  | 10:29 | 1 | 0 | 0 |  76.40 | 4.761905 |  3.8200 | 9.6 |  80.2200 |\n| 3 | 631-41-3108 | 1 | 0 | 0 | 0 | 1 | 0 | 1 | 0 | 0 | ⋯ | 3/3/2019  | 13:23 | 0 | 1 | 0 | 324.31 | 4.761905 | 16.2155 | 7.4 | 340.5255 |\n| 4 | 123-19-1176 | 1 | 0 | 0 | 1 | 0 | 0 | 1 | 0 | 0 | ⋯ | 1/27/2019 | 20:33 | 0 | 0 | 1 | 465.76 | 4.761905 | 23.2880 | 8.4 | 489.0480 |\n| 5 | 373-73-7910 | 1 | 0 | 0 | 0 | 1 | 0 | 1 | 0 | 0 | ⋯ | 2/8/2019  | 10:37 | 0 | 0 | 1 | 604.17 | 4.761905 | 30.2085 | 5.3 | 634.3785 |\n| 6 | 699-14-3026 | 0 | 0 | 1 | 0 | 1 | 0 | 1 | 1 | 0 | ⋯ | 3/25/2019 | 18:30 | 0 | 0 | 1 | 597.73 | 4.761905 | 29.8865 | 4.1 | 627.6165 |\n\n",
            "text/html": [
              "<table class=\"dataframe\">\n",
              "<caption>A data.frame: 6 × 27</caption>\n",
              "<thead>\n",
              "\t<tr><th></th><th scope=col>Invoice.ID</th><th scope=col>Branch_A</th><th scope=col>Branch_B</th><th scope=col>Branch_C</th><th scope=col>Customer.type_Member</th><th scope=col>Customer.type_Normal</th><th scope=col>Gender_Female</th><th scope=col>Gender_Male</th><th scope=col>Product.line_Electronic accessories</th><th scope=col>Product.line_Fashion accessories</th><th scope=col>⋯</th><th scope=col>Date</th><th scope=col>Time</th><th scope=col>Payment_Cash</th><th scope=col>Payment_Credit card</th><th scope=col>Payment_Ewallet</th><th scope=col>cogs</th><th scope=col>gross.margin.percentage</th><th scope=col>gross.income</th><th scope=col>Rating</th><th scope=col>Total</th></tr>\n",
              "\t<tr><th></th><th scope=col>&lt;chr&gt;</th><th scope=col>&lt;int&gt;</th><th scope=col>&lt;int&gt;</th><th scope=col>&lt;int&gt;</th><th scope=col>&lt;int&gt;</th><th scope=col>&lt;int&gt;</th><th scope=col>&lt;int&gt;</th><th scope=col>&lt;int&gt;</th><th scope=col>&lt;int&gt;</th><th scope=col>&lt;int&gt;</th><th scope=col>⋯</th><th scope=col>&lt;chr&gt;</th><th scope=col>&lt;chr&gt;</th><th scope=col>&lt;int&gt;</th><th scope=col>&lt;int&gt;</th><th scope=col>&lt;int&gt;</th><th scope=col>&lt;dbl&gt;</th><th scope=col>&lt;dbl&gt;</th><th scope=col>&lt;dbl&gt;</th><th scope=col>&lt;dbl&gt;</th><th scope=col>&lt;dbl&gt;</th></tr>\n",
              "</thead>\n",
              "<tbody>\n",
              "\t<tr><th scope=row>1</th><td>750-67-8428</td><td>1</td><td>0</td><td>0</td><td>1</td><td>0</td><td>1</td><td>0</td><td>0</td><td>0</td><td>⋯</td><td>1/5/2019 </td><td>13:08</td><td>0</td><td>0</td><td>1</td><td>522.83</td><td>4.761905</td><td>26.1415</td><td>9.1</td><td>548.9715</td></tr>\n",
              "\t<tr><th scope=row>2</th><td>226-31-3081</td><td>0</td><td>0</td><td>1</td><td>0</td><td>1</td><td>1</td><td>0</td><td>1</td><td>0</td><td>⋯</td><td>3/8/2019 </td><td>10:29</td><td>1</td><td>0</td><td>0</td><td> 76.40</td><td>4.761905</td><td> 3.8200</td><td>9.6</td><td> 80.2200</td></tr>\n",
              "\t<tr><th scope=row>3</th><td>631-41-3108</td><td>1</td><td>0</td><td>0</td><td>0</td><td>1</td><td>0</td><td>1</td><td>0</td><td>0</td><td>⋯</td><td>3/3/2019 </td><td>13:23</td><td>0</td><td>1</td><td>0</td><td>324.31</td><td>4.761905</td><td>16.2155</td><td>7.4</td><td>340.5255</td></tr>\n",
              "\t<tr><th scope=row>4</th><td>123-19-1176</td><td>1</td><td>0</td><td>0</td><td>1</td><td>0</td><td>0</td><td>1</td><td>0</td><td>0</td><td>⋯</td><td>1/27/2019</td><td>20:33</td><td>0</td><td>0</td><td>1</td><td>465.76</td><td>4.761905</td><td>23.2880</td><td>8.4</td><td>489.0480</td></tr>\n",
              "\t<tr><th scope=row>5</th><td>373-73-7910</td><td>1</td><td>0</td><td>0</td><td>0</td><td>1</td><td>0</td><td>1</td><td>0</td><td>0</td><td>⋯</td><td>2/8/2019 </td><td>10:37</td><td>0</td><td>0</td><td>1</td><td>604.17</td><td>4.761905</td><td>30.2085</td><td>5.3</td><td>634.3785</td></tr>\n",
              "\t<tr><th scope=row>6</th><td>699-14-3026</td><td>0</td><td>0</td><td>1</td><td>0</td><td>1</td><td>0</td><td>1</td><td>1</td><td>0</td><td>⋯</td><td>3/25/2019</td><td>18:30</td><td>0</td><td>0</td><td>1</td><td>597.73</td><td>4.761905</td><td>29.8865</td><td>4.1</td><td>627.6165</td></tr>\n",
              "</tbody>\n",
              "</table>\n"
            ]
          },
          "metadata": {
            "tags": []
          }
        }
      ]
    },
    {
      "cell_type": "code",
      "metadata": {
        "colab": {
          "base_uri": "https://localhost:8080/",
          "height": 393
        },
        "id": "PgcqpVRkY1Du",
        "outputId": "f865e1c3-730f-4809-c08b-bebf37c4355f"
      },
      "source": [
        "#First checking out the class of each column\n",
        "\n",
        "class <- sapply(Sales, class)\n",
        "class\n",
        "\n",
        "#Selecting only numerical variables\n",
        "#\n",
        "\n",
        "Sales2 <- Sales %>% select(which(class != \"character\"))\n",
        "head(Sales2)"
      ],
      "execution_count": null,
      "outputs": [
        {
          "output_type": "display_data",
          "data": {
            "text/plain": [
              "                         Invoice.ID                            Branch_A \n",
              "                        \"character\"                           \"integer\" \n",
              "                           Branch_B                            Branch_C \n",
              "                          \"integer\"                           \"integer\" \n",
              "               Customer.type_Member                Customer.type_Normal \n",
              "                          \"integer\"                           \"integer\" \n",
              "                      Gender_Female                         Gender_Male \n",
              "                          \"integer\"                           \"integer\" \n",
              "Product.line_Electronic accessories    Product.line_Fashion accessories \n",
              "                          \"integer\"                           \"integer\" \n",
              "    Product.line_Food and beverages      Product.line_Health and beauty \n",
              "                          \"integer\"                           \"integer\" \n",
              "    Product.line_Home and lifestyle      Product.line_Sports and travel \n",
              "                          \"integer\"                           \"integer\" \n",
              "                         Unit.price                            Quantity \n",
              "                          \"numeric\"                           \"integer\" \n",
              "                                Tax                                Date \n",
              "                          \"numeric\"                         \"character\" \n",
              "                               Time                        Payment_Cash \n",
              "                        \"character\"                           \"integer\" \n",
              "                Payment_Credit card                     Payment_Ewallet \n",
              "                          \"integer\"                           \"integer\" \n",
              "                               cogs             gross.margin.percentage \n",
              "                          \"numeric\"                           \"numeric\" \n",
              "                       gross.income                              Rating \n",
              "                          \"numeric\"                           \"numeric\" \n",
              "                              Total \n",
              "                          \"numeric\" "
            ],
            "text/latex": "\\begin{description*}\n\\item[Invoice.ID] 'character'\n\\item[Branch\\textbackslash{}\\_A] 'integer'\n\\item[Branch\\textbackslash{}\\_B] 'integer'\n\\item[Branch\\textbackslash{}\\_C] 'integer'\n\\item[Customer.type\\textbackslash{}\\_Member] 'integer'\n\\item[Customer.type\\textbackslash{}\\_Normal] 'integer'\n\\item[Gender\\textbackslash{}\\_Female] 'integer'\n\\item[Gender\\textbackslash{}\\_Male] 'integer'\n\\item[Product.line\\textbackslash{}\\_Electronic accessories] 'integer'\n\\item[Product.line\\textbackslash{}\\_Fashion accessories] 'integer'\n\\item[Product.line\\textbackslash{}\\_Food and beverages] 'integer'\n\\item[Product.line\\textbackslash{}\\_Health and beauty] 'integer'\n\\item[Product.line\\textbackslash{}\\_Home and lifestyle] 'integer'\n\\item[Product.line\\textbackslash{}\\_Sports and travel] 'integer'\n\\item[Unit.price] 'numeric'\n\\item[Quantity] 'integer'\n\\item[Tax] 'numeric'\n\\item[Date] 'character'\n\\item[Time] 'character'\n\\item[Payment\\textbackslash{}\\_Cash] 'integer'\n\\item[Payment\\textbackslash{}\\_Credit card] 'integer'\n\\item[Payment\\textbackslash{}\\_Ewallet] 'integer'\n\\item[cogs] 'numeric'\n\\item[gross.margin.percentage] 'numeric'\n\\item[gross.income] 'numeric'\n\\item[Rating] 'numeric'\n\\item[Total] 'numeric'\n\\end{description*}\n",
            "text/markdown": "Invoice.ID\n:   'character'Branch_A\n:   'integer'Branch_B\n:   'integer'Branch_C\n:   'integer'Customer.type_Member\n:   'integer'Customer.type_Normal\n:   'integer'Gender_Female\n:   'integer'Gender_Male\n:   'integer'Product.line_Electronic accessories\n:   'integer'Product.line_Fashion accessories\n:   'integer'Product.line_Food and beverages\n:   'integer'Product.line_Health and beauty\n:   'integer'Product.line_Home and lifestyle\n:   'integer'Product.line_Sports and travel\n:   'integer'Unit.price\n:   'numeric'Quantity\n:   'integer'Tax\n:   'numeric'Date\n:   'character'Time\n:   'character'Payment_Cash\n:   'integer'Payment_Credit card\n:   'integer'Payment_Ewallet\n:   'integer'cogs\n:   'numeric'gross.margin.percentage\n:   'numeric'gross.income\n:   'numeric'Rating\n:   'numeric'Total\n:   'numeric'\n\n",
            "text/html": [
              "<style>\n",
              ".dl-inline {width: auto; margin:0; padding: 0}\n",
              ".dl-inline>dt, .dl-inline>dd {float: none; width: auto; display: inline-block}\n",
              ".dl-inline>dt::after {content: \":\\0020\"; padding-right: .5ex}\n",
              ".dl-inline>dt:not(:first-of-type) {padding-left: .5ex}\n",
              "</style><dl class=dl-inline><dt>Invoice.ID</dt><dd>'character'</dd><dt>Branch_A</dt><dd>'integer'</dd><dt>Branch_B</dt><dd>'integer'</dd><dt>Branch_C</dt><dd>'integer'</dd><dt>Customer.type_Member</dt><dd>'integer'</dd><dt>Customer.type_Normal</dt><dd>'integer'</dd><dt>Gender_Female</dt><dd>'integer'</dd><dt>Gender_Male</dt><dd>'integer'</dd><dt>Product.line_Electronic accessories</dt><dd>'integer'</dd><dt>Product.line_Fashion accessories</dt><dd>'integer'</dd><dt>Product.line_Food and beverages</dt><dd>'integer'</dd><dt>Product.line_Health and beauty</dt><dd>'integer'</dd><dt>Product.line_Home and lifestyle</dt><dd>'integer'</dd><dt>Product.line_Sports and travel</dt><dd>'integer'</dd><dt>Unit.price</dt><dd>'numeric'</dd><dt>Quantity</dt><dd>'integer'</dd><dt>Tax</dt><dd>'numeric'</dd><dt>Date</dt><dd>'character'</dd><dt>Time</dt><dd>'character'</dd><dt>Payment_Cash</dt><dd>'integer'</dd><dt>Payment_Credit card</dt><dd>'integer'</dd><dt>Payment_Ewallet</dt><dd>'integer'</dd><dt>cogs</dt><dd>'numeric'</dd><dt>gross.margin.percentage</dt><dd>'numeric'</dd><dt>gross.income</dt><dd>'numeric'</dd><dt>Rating</dt><dd>'numeric'</dd><dt>Total</dt><dd>'numeric'</dd></dl>\n"
            ]
          },
          "metadata": {
            "tags": []
          }
        },
        {
          "output_type": "display_data",
          "data": {
            "text/plain": [
              "  Branch_A Branch_B Branch_C Customer.type_Member Customer.type_Normal\n",
              "1 1        0        0        1                    0                   \n",
              "2 0        0        1        0                    1                   \n",
              "3 1        0        0        0                    1                   \n",
              "4 1        0        0        1                    0                   \n",
              "5 1        0        0        0                    1                   \n",
              "6 0        0        1        0                    1                   \n",
              "  Gender_Female Gender_Male Product.line_Electronic accessories\n",
              "1 1             0           0                                  \n",
              "2 1             0           1                                  \n",
              "3 0             1           0                                  \n",
              "4 0             1           0                                  \n",
              "5 0             1           0                                  \n",
              "6 0             1           1                                  \n",
              "  Product.line_Fashion accessories Product.line_Food and beverages ⋯ Quantity\n",
              "1 0                                0                               ⋯ 7       \n",
              "2 0                                0                               ⋯ 5       \n",
              "3 0                                0                               ⋯ 7       \n",
              "4 0                                0                               ⋯ 8       \n",
              "5 0                                0                               ⋯ 7       \n",
              "6 0                                0                               ⋯ 7       \n",
              "  Tax     Payment_Cash Payment_Credit card Payment_Ewallet cogs  \n",
              "1 26.1415 0            0                   1               522.83\n",
              "2  3.8200 1            0                   0                76.40\n",
              "3 16.2155 0            1                   0               324.31\n",
              "4 23.2880 0            0                   1               465.76\n",
              "5 30.2085 0            0                   1               604.17\n",
              "6 29.8865 0            0                   1               597.73\n",
              "  gross.margin.percentage gross.income Rating Total   \n",
              "1 4.761905                26.1415      9.1    548.9715\n",
              "2 4.761905                 3.8200      9.6     80.2200\n",
              "3 4.761905                16.2155      7.4    340.5255\n",
              "4 4.761905                23.2880      8.4    489.0480\n",
              "5 4.761905                30.2085      5.3    634.3785\n",
              "6 4.761905                29.8865      4.1    627.6165"
            ],
            "text/latex": "A data.frame: 6 × 24\n\\begin{tabular}{r|lllllllllllllllllllll}\n  & Branch\\_A & Branch\\_B & Branch\\_C & Customer.type\\_Member & Customer.type\\_Normal & Gender\\_Female & Gender\\_Male & Product.line\\_Electronic accessories & Product.line\\_Fashion accessories & Product.line\\_Food and beverages & ⋯ & Quantity & Tax & Payment\\_Cash & Payment\\_Credit card & Payment\\_Ewallet & cogs & gross.margin.percentage & gross.income & Rating & Total\\\\\n  & <int> & <int> & <int> & <int> & <int> & <int> & <int> & <int> & <int> & <int> & ⋯ & <int> & <dbl> & <int> & <int> & <int> & <dbl> & <dbl> & <dbl> & <dbl> & <dbl>\\\\\n\\hline\n\t1 & 1 & 0 & 0 & 1 & 0 & 1 & 0 & 0 & 0 & 0 & ⋯ & 7 & 26.1415 & 0 & 0 & 1 & 522.83 & 4.761905 & 26.1415 & 9.1 & 548.9715\\\\\n\t2 & 0 & 0 & 1 & 0 & 1 & 1 & 0 & 1 & 0 & 0 & ⋯ & 5 &  3.8200 & 1 & 0 & 0 &  76.40 & 4.761905 &  3.8200 & 9.6 &  80.2200\\\\\n\t3 & 1 & 0 & 0 & 0 & 1 & 0 & 1 & 0 & 0 & 0 & ⋯ & 7 & 16.2155 & 0 & 1 & 0 & 324.31 & 4.761905 & 16.2155 & 7.4 & 340.5255\\\\\n\t4 & 1 & 0 & 0 & 1 & 0 & 0 & 1 & 0 & 0 & 0 & ⋯ & 8 & 23.2880 & 0 & 0 & 1 & 465.76 & 4.761905 & 23.2880 & 8.4 & 489.0480\\\\\n\t5 & 1 & 0 & 0 & 0 & 1 & 0 & 1 & 0 & 0 & 0 & ⋯ & 7 & 30.2085 & 0 & 0 & 1 & 604.17 & 4.761905 & 30.2085 & 5.3 & 634.3785\\\\\n\t6 & 0 & 0 & 1 & 0 & 1 & 0 & 1 & 1 & 0 & 0 & ⋯ & 7 & 29.8865 & 0 & 0 & 1 & 597.73 & 4.761905 & 29.8865 & 4.1 & 627.6165\\\\\n\\end{tabular}\n",
            "text/markdown": "\nA data.frame: 6 × 24\n\n| <!--/--> | Branch_A &lt;int&gt; | Branch_B &lt;int&gt; | Branch_C &lt;int&gt; | Customer.type_Member &lt;int&gt; | Customer.type_Normal &lt;int&gt; | Gender_Female &lt;int&gt; | Gender_Male &lt;int&gt; | Product.line_Electronic accessories &lt;int&gt; | Product.line_Fashion accessories &lt;int&gt; | Product.line_Food and beverages &lt;int&gt; | ⋯ ⋯ | Quantity &lt;int&gt; | Tax &lt;dbl&gt; | Payment_Cash &lt;int&gt; | Payment_Credit card &lt;int&gt; | Payment_Ewallet &lt;int&gt; | cogs &lt;dbl&gt; | gross.margin.percentage &lt;dbl&gt; | gross.income &lt;dbl&gt; | Rating &lt;dbl&gt; | Total &lt;dbl&gt; |\n|---|---|---|---|---|---|---|---|---|---|---|---|---|---|---|---|---|---|---|---|---|---|\n| 1 | 1 | 0 | 0 | 1 | 0 | 1 | 0 | 0 | 0 | 0 | ⋯ | 7 | 26.1415 | 0 | 0 | 1 | 522.83 | 4.761905 | 26.1415 | 9.1 | 548.9715 |\n| 2 | 0 | 0 | 1 | 0 | 1 | 1 | 0 | 1 | 0 | 0 | ⋯ | 5 |  3.8200 | 1 | 0 | 0 |  76.40 | 4.761905 |  3.8200 | 9.6 |  80.2200 |\n| 3 | 1 | 0 | 0 | 0 | 1 | 0 | 1 | 0 | 0 | 0 | ⋯ | 7 | 16.2155 | 0 | 1 | 0 | 324.31 | 4.761905 | 16.2155 | 7.4 | 340.5255 |\n| 4 | 1 | 0 | 0 | 1 | 0 | 0 | 1 | 0 | 0 | 0 | ⋯ | 8 | 23.2880 | 0 | 0 | 1 | 465.76 | 4.761905 | 23.2880 | 8.4 | 489.0480 |\n| 5 | 1 | 0 | 0 | 0 | 1 | 0 | 1 | 0 | 0 | 0 | ⋯ | 7 | 30.2085 | 0 | 0 | 1 | 604.17 | 4.761905 | 30.2085 | 5.3 | 634.3785 |\n| 6 | 0 | 0 | 1 | 0 | 1 | 0 | 1 | 1 | 0 | 0 | ⋯ | 7 | 29.8865 | 0 | 0 | 1 | 597.73 | 4.761905 | 29.8865 | 4.1 | 627.6165 |\n\n",
            "text/html": [
              "<table class=\"dataframe\">\n",
              "<caption>A data.frame: 6 × 24</caption>\n",
              "<thead>\n",
              "\t<tr><th></th><th scope=col>Branch_A</th><th scope=col>Branch_B</th><th scope=col>Branch_C</th><th scope=col>Customer.type_Member</th><th scope=col>Customer.type_Normal</th><th scope=col>Gender_Female</th><th scope=col>Gender_Male</th><th scope=col>Product.line_Electronic accessories</th><th scope=col>Product.line_Fashion accessories</th><th scope=col>Product.line_Food and beverages</th><th scope=col>⋯</th><th scope=col>Quantity</th><th scope=col>Tax</th><th scope=col>Payment_Cash</th><th scope=col>Payment_Credit card</th><th scope=col>Payment_Ewallet</th><th scope=col>cogs</th><th scope=col>gross.margin.percentage</th><th scope=col>gross.income</th><th scope=col>Rating</th><th scope=col>Total</th></tr>\n",
              "\t<tr><th></th><th scope=col>&lt;int&gt;</th><th scope=col>&lt;int&gt;</th><th scope=col>&lt;int&gt;</th><th scope=col>&lt;int&gt;</th><th scope=col>&lt;int&gt;</th><th scope=col>&lt;int&gt;</th><th scope=col>&lt;int&gt;</th><th scope=col>&lt;int&gt;</th><th scope=col>&lt;int&gt;</th><th scope=col>&lt;int&gt;</th><th scope=col>⋯</th><th scope=col>&lt;int&gt;</th><th scope=col>&lt;dbl&gt;</th><th scope=col>&lt;int&gt;</th><th scope=col>&lt;int&gt;</th><th scope=col>&lt;int&gt;</th><th scope=col>&lt;dbl&gt;</th><th scope=col>&lt;dbl&gt;</th><th scope=col>&lt;dbl&gt;</th><th scope=col>&lt;dbl&gt;</th><th scope=col>&lt;dbl&gt;</th></tr>\n",
              "</thead>\n",
              "<tbody>\n",
              "\t<tr><th scope=row>1</th><td>1</td><td>0</td><td>0</td><td>1</td><td>0</td><td>1</td><td>0</td><td>0</td><td>0</td><td>0</td><td>⋯</td><td>7</td><td>26.1415</td><td>0</td><td>0</td><td>1</td><td>522.83</td><td>4.761905</td><td>26.1415</td><td>9.1</td><td>548.9715</td></tr>\n",
              "\t<tr><th scope=row>2</th><td>0</td><td>0</td><td>1</td><td>0</td><td>1</td><td>1</td><td>0</td><td>1</td><td>0</td><td>0</td><td>⋯</td><td>5</td><td> 3.8200</td><td>1</td><td>0</td><td>0</td><td> 76.40</td><td>4.761905</td><td> 3.8200</td><td>9.6</td><td> 80.2200</td></tr>\n",
              "\t<tr><th scope=row>3</th><td>1</td><td>0</td><td>0</td><td>0</td><td>1</td><td>0</td><td>1</td><td>0</td><td>0</td><td>0</td><td>⋯</td><td>7</td><td>16.2155</td><td>0</td><td>1</td><td>0</td><td>324.31</td><td>4.761905</td><td>16.2155</td><td>7.4</td><td>340.5255</td></tr>\n",
              "\t<tr><th scope=row>4</th><td>1</td><td>0</td><td>0</td><td>1</td><td>0</td><td>0</td><td>1</td><td>0</td><td>0</td><td>0</td><td>⋯</td><td>8</td><td>23.2880</td><td>0</td><td>0</td><td>1</td><td>465.76</td><td>4.761905</td><td>23.2880</td><td>8.4</td><td>489.0480</td></tr>\n",
              "\t<tr><th scope=row>5</th><td>1</td><td>0</td><td>0</td><td>0</td><td>1</td><td>0</td><td>1</td><td>0</td><td>0</td><td>0</td><td>⋯</td><td>7</td><td>30.2085</td><td>0</td><td>0</td><td>1</td><td>604.17</td><td>4.761905</td><td>30.2085</td><td>5.3</td><td>634.3785</td></tr>\n",
              "\t<tr><th scope=row>6</th><td>0</td><td>0</td><td>1</td><td>0</td><td>1</td><td>0</td><td>1</td><td>1</td><td>0</td><td>0</td><td>⋯</td><td>7</td><td>29.8865</td><td>0</td><td>0</td><td>1</td><td>597.73</td><td>4.761905</td><td>29.8865</td><td>4.1</td><td>627.6165</td></tr>\n",
              "</tbody>\n",
              "</table>\n"
            ]
          },
          "metadata": {
            "tags": []
          }
        }
      ]
    },
    {
      "cell_type": "code",
      "metadata": {
        "id": "GnQ3ijMGXYvk"
      },
      "source": [
        "# Installing and loading our clustvarsel package\n",
        "# ---\n",
        "# \n",
        "suppressWarnings(\n",
        "        suppressMessages(if\n",
        "                         (!require(clustvarsel, quietly=TRUE))\n",
        "                install.packages(\"clustvarsel\")))\n",
        "                         \n",
        "library(clustvarsel)\n"
      ],
      "execution_count": null,
      "outputs": []
    },
    {
      "cell_type": "code",
      "metadata": {
        "id": "eXhtdGurXu9M"
      },
      "source": [
        "# Installing and loading our mclust package\n",
        "# ---\n",
        "# \n",
        "suppressWarnings(\n",
        "        suppressMessages(if\n",
        "                         (!require(mclust, quietly=TRUE))\n",
        "                install.packages(\"mclust\")))\n",
        "library(mclust)\n"
      ],
      "execution_count": null,
      "outputs": []
    },
    {
      "cell_type": "code",
      "metadata": {
        "colab": {
          "base_uri": "https://localhost:8080/",
          "height": 225
        },
        "id": "J0x5SsdeX5LG",
        "outputId": "11e85033-b862-47da-a5b7-37567d3d238e"
      },
      "source": [
        "# Sequential forward greedy search (default)\n",
        "# ---\n",
        "#\n",
        "out = clustvarsel(Continuous_Variables, G = 1:5)\n",
        "out"
      ],
      "execution_count": null,
      "outputs": [
        {
          "output_type": "display_data",
          "data": {
            "text/plain": [
              "------------------------------------------------------ \n",
              "Variable selection for Gaussian model-based clustering\n",
              "Stepwise (forward/backward) greedy search\n",
              "------------------------------------------------------ \n",
              "\n",
              " Variable proposed Type of step   BICclust Model G   BICdiff Decision\n",
              "               Tax          Add  -7382.354     V 4  389.0238 Accepted\n",
              "        Unit.price          Add -15963.159   EVV 5  316.6680 Accepted\n",
              "            Rating          Add -20018.948   EVV 5 -122.0995 Rejected\n",
              "        Unit.price       Remove  -7384.156     V 4  318.4702 Rejected\n",
              "\n",
              "Selected subset: Tax, Unit.price"
            ]
          },
          "metadata": {
            "tags": []
          }
        }
      ]
    },
    {
      "cell_type": "code",
      "metadata": {
        "colab": {
          "base_uri": "https://localhost:8080/",
          "height": 225
        },
        "id": "qUWQf_S1YSHV",
        "outputId": "d9f7c380-9432-4dc8-f675-6bb758e821f2"
      },
      "source": [
        "#Having identified the variables that we use, we proceed to build the clustering model \n",
        "#\n",
        "\n",
        "Subset1 = Sales2[,out$subset]\n",
        "mod = Mclust(Subset1, G = 1:5)\n",
        "summary(mod)"
      ],
      "execution_count": null,
      "outputs": [
        {
          "output_type": "display_data",
          "data": {
            "text/plain": [
              "---------------------------------------------------- \n",
              "Gaussian finite mixture model fitted by EM algorithm \n",
              "---------------------------------------------------- \n",
              "\n",
              "Mclust EII (spherical, equal volume) model with 2 components: \n",
              "\n",
              " log-likelihood    n df       BIC       ICL\n",
              "       -981.616 1000  6 -2004.679 -2009.603\n",
              "\n",
              "Clustering table:\n",
              "  1   2 \n",
              "340 660 "
            ]
          },
          "metadata": {
            "tags": []
          }
        }
      ]
    },
    {
      "cell_type": "code",
      "metadata": {
        "id": "q1OkLnTeFonO",
        "colab": {
          "base_uri": "https://localhost:8080/",
          "height": 437
        },
        "outputId": "5936fa89-721a-429c-8a84-99a6c8a63c9c"
      },
      "source": [
        "#Plotting the model\n",
        "#\n",
        "\n",
        "plot(mod,c(\"classification\"))"
      ],
      "execution_count": null,
      "outputs": [
        {
          "output_type": "display_data",
          "data": {
            "image/png": "[encoded data removed]",
            "text/plain": [
              "Plot with title “”"
            ]
          },
          "metadata": {
            "tags": [],
            "image/png": {
              "width": 420,
              "height": 420
            }
          }
        }
      ]
    },
    {
      "cell_type": "markdown",
      "metadata": {
        "id": "WLJOaEXFGA9o"
      },
      "source": [
        "# **Feature Ranking**"
      ]
    },
    {
      "cell_type": "code",
      "metadata": {
        "id": "ft9DV1cuGKm3"
      },
      "source": [
        "#Installation and loading of the required packages\n",
        "# \n",
        "\n",
        "suppressWarnings(\n",
        "        suppressMessages(if\n",
        "                         (!require(FSelector, quietly=TRUE))\n",
        "                install.packages(\"FSelector\")))\n",
        "library(FSelector)"
      ],
      "execution_count": null,
      "outputs": []
    },
    {
      "cell_type": "code",
      "metadata": {
        "colab": {
          "base_uri": "https://localhost:8080/",
          "height": 818
        },
        "id": "oqavQXbSGqmv",
        "outputId": "9b4ef54c-59e3-40f7-da60-b1b03290e015"
      },
      "source": [
        "#Using of entropy - based approach to perform feature ranking\n",
        "#\n",
        "\n",
        "Scores <- information.gain(Total~., Sales2)\n",
        "Scores"
      ],
      "execution_count": null,
      "outputs": [
        {
          "output_type": "display_data",
          "data": {
            "text/plain": [
              "                                    attr_importance\n",
              "Branch_A                            0.0000000      \n",
              "Branch_B                            0.0000000      \n",
              "Branch_C                            0.0000000      \n",
              "Customer.type_Member                0.0000000      \n",
              "Customer.type_Normal                0.0000000      \n",
              "Gender_Female                       0.0000000      \n",
              "Gender_Male                         0.0000000      \n",
              "Product.line_Electronic accessories 0.0000000      \n",
              "Product.line_Fashion accessories    0.0000000      \n",
              "Product.line_Food and beverages     0.0000000      \n",
              "Product.line_Health and beauty      0.0000000      \n",
              "Product.line_Home and lifestyle     0.0000000      \n",
              "Product.line_Sports and travel      0.0000000      \n",
              "Unit.price                          0.3084863      \n",
              "Quantity                            0.4211154      \n",
              "Tax                                 1.6094379      \n",
              "Payment_Cash                        0.0000000      \n",
              "Payment_Credit card                 0.0000000      \n",
              "Payment_Ewallet                     0.0000000      \n",
              "cogs                                1.6094379      \n",
              "gross.margin.percentage             0.0000000      \n",
              "gross.income                        1.6094379      \n",
              "Rating                              0.0000000      "
            ],
            "text/latex": "A data.frame: 23 × 1\n\\begin{tabular}{r|l}\n  & attr\\_importance\\\\\n  & <dbl>\\\\\n\\hline\n\tBranch\\_A & 0.0000000\\\\\n\tBranch\\_B & 0.0000000\\\\\n\tBranch\\_C & 0.0000000\\\\\n\tCustomer.type\\_Member & 0.0000000\\\\\n\tCustomer.type\\_Normal & 0.0000000\\\\\n\tGender\\_Female & 0.0000000\\\\\n\tGender\\_Male & 0.0000000\\\\\n\tProduct.line\\_Electronic accessories & 0.0000000\\\\\n\tProduct.line\\_Fashion accessories & 0.0000000\\\\\n\tProduct.line\\_Food and beverages & 0.0000000\\\\\n\tProduct.line\\_Health and beauty & 0.0000000\\\\\n\tProduct.line\\_Home and lifestyle & 0.0000000\\\\\n\tProduct.line\\_Sports and travel & 0.0000000\\\\\n\tUnit.price & 0.3084863\\\\\n\tQuantity & 0.4211154\\\\\n\tTax & 1.6094379\\\\\n\tPayment\\_Cash & 0.0000000\\\\\n\tPayment\\_Credit card & 0.0000000\\\\\n\tPayment\\_Ewallet & 0.0000000\\\\\n\tcogs & 1.6094379\\\\\n\tgross.margin.percentage & 0.0000000\\\\\n\tgross.income & 1.6094379\\\\\n\tRating & 0.0000000\\\\\n\\end{tabular}\n",
            "text/markdown": "\nA data.frame: 23 × 1\n\n| <!--/--> | attr_importance &lt;dbl&gt; |\n|---|---|\n| Branch_A | 0.0000000 |\n| Branch_B | 0.0000000 |\n| Branch_C | 0.0000000 |\n| Customer.type_Member | 0.0000000 |\n| Customer.type_Normal | 0.0000000 |\n| Gender_Female | 0.0000000 |\n| Gender_Male | 0.0000000 |\n| Product.line_Electronic accessories | 0.0000000 |\n| Product.line_Fashion accessories | 0.0000000 |\n| Product.line_Food and beverages | 0.0000000 |\n| Product.line_Health and beauty | 0.0000000 |\n| Product.line_Home and lifestyle | 0.0000000 |\n| Product.line_Sports and travel | 0.0000000 |\n| Unit.price | 0.3084863 |\n| Quantity | 0.4211154 |\n| Tax | 1.6094379 |\n| Payment_Cash | 0.0000000 |\n| Payment_Credit card | 0.0000000 |\n| Payment_Ewallet | 0.0000000 |\n| cogs | 1.6094379 |\n| gross.margin.percentage | 0.0000000 |\n| gross.income | 1.6094379 |\n| Rating | 0.0000000 |\n\n",
            "text/html": [
              "<table class=\"dataframe\">\n",
              "<caption>A data.frame: 23 × 1</caption>\n",
              "<thead>\n",
              "\t<tr><th></th><th scope=col>attr_importance</th></tr>\n",
              "\t<tr><th></th><th scope=col>&lt;dbl&gt;</th></tr>\n",
              "</thead>\n",
              "<tbody>\n",
              "\t<tr><th scope=row>Branch_A</th><td>0.0000000</td></tr>\n",
              "\t<tr><th scope=row>Branch_B</th><td>0.0000000</td></tr>\n",
              "\t<tr><th scope=row>Branch_C</th><td>0.0000000</td></tr>\n",
              "\t<tr><th scope=row>Customer.type_Member</th><td>0.0000000</td></tr>\n",
              "\t<tr><th scope=row>Customer.type_Normal</th><td>0.0000000</td></tr>\n",
              "\t<tr><th scope=row>Gender_Female</th><td>0.0000000</td></tr>\n",
              "\t<tr><th scope=row>Gender_Male</th><td>0.0000000</td></tr>\n",
              "\t<tr><th scope=row>Product.line_Electronic accessories</th><td>0.0000000</td></tr>\n",
              "\t<tr><th scope=row>Product.line_Fashion accessories</th><td>0.0000000</td></tr>\n",
              "\t<tr><th scope=row>Product.line_Food and beverages</th><td>0.0000000</td></tr>\n",
              "\t<tr><th scope=row>Product.line_Health and beauty</th><td>0.0000000</td></tr>\n",
              "\t<tr><th scope=row>Product.line_Home and lifestyle</th><td>0.0000000</td></tr>\n",
              "\t<tr><th scope=row>Product.line_Sports and travel</th><td>0.0000000</td></tr>\n",
              "\t<tr><th scope=row>Unit.price</th><td>0.3084863</td></tr>\n",
              "\t<tr><th scope=row>Quantity</th><td>0.4211154</td></tr>\n",
              "\t<tr><th scope=row>Tax</th><td>1.6094379</td></tr>\n",
              "\t<tr><th scope=row>Payment_Cash</th><td>0.0000000</td></tr>\n",
              "\t<tr><th scope=row>Payment_Credit card</th><td>0.0000000</td></tr>\n",
              "\t<tr><th scope=row>Payment_Ewallet</th><td>0.0000000</td></tr>\n",
              "\t<tr><th scope=row>cogs</th><td>1.6094379</td></tr>\n",
              "\t<tr><th scope=row>gross.margin.percentage</th><td>0.0000000</td></tr>\n",
              "\t<tr><th scope=row>gross.income</th><td>1.6094379</td></tr>\n",
              "\t<tr><th scope=row>Rating</th><td>0.0000000</td></tr>\n",
              "</tbody>\n",
              "</table>\n"
            ]
          },
          "metadata": {
            "tags": []
          }
        }
      ]
    },
    {
      "cell_type": "code",
      "metadata": {
        "colab": {
          "base_uri": "https://localhost:8080/",
          "height": 272
        },
        "id": "K8uJCMBLG73v",
        "outputId": "343728c6-e846-4cac-c9da-6d019c4f3759"
      },
      "source": [
        "#Algorithm to select a cut-off subset\n",
        "#\n",
        "\n",
        "Subset <- cutoff.k(Scores, 5)\n",
        "as.data.frame(Subset)"
      ],
      "execution_count": null,
      "outputs": [
        {
          "output_type": "display_data",
          "data": {
            "text/plain": [
              "  Subset      \n",
              "1 Tax         \n",
              "2 cogs        \n",
              "3 gross.income\n",
              "4 Quantity    \n",
              "5 Unit.price  "
            ],
            "text/latex": "A data.frame: 5 × 1\n\\begin{tabular}{l}\n Subset\\\\\n <chr>\\\\\n\\hline\n\t Tax         \\\\\n\t cogs        \\\\\n\t gross.income\\\\\n\t Quantity    \\\\\n\t Unit.price  \\\\\n\\end{tabular}\n",
            "text/markdown": "\nA data.frame: 5 × 1\n\n| Subset &lt;chr&gt; |\n|---|\n| Tax          |\n| cogs         |\n| gross.income |\n| Quantity     |\n| Unit.price   |\n\n",
            "text/html": [
              "<table class=\"dataframe\">\n",
              "<caption>A data.frame: 5 × 1</caption>\n",
              "<thead>\n",
              "\t<tr><th scope=col>Subset</th></tr>\n",
              "\t<tr><th scope=col>&lt;chr&gt;</th></tr>\n",
              "</thead>\n",
              "<tbody>\n",
              "\t<tr><td>Tax         </td></tr>\n",
              "\t<tr><td>cogs        </td></tr>\n",
              "\t<tr><td>gross.income</td></tr>\n",
              "\t<tr><td>Quantity    </td></tr>\n",
              "\t<tr><td>Unit.price  </td></tr>\n",
              "</tbody>\n",
              "</table>\n"
            ]
          },
          "metadata": {
            "tags": []
          }
        }
      ]
    },
    {
      "cell_type": "code",
      "metadata": {
        "colab": {
          "base_uri": "https://localhost:8080/",
          "height": 272
        },
        "id": "RbzFrg2THC1e",
        "outputId": "5f23d405-63ec-464b-e3ed-4871eff7ed09"
      },
      "source": [
        "#Setting cutoff as a percentage.\n",
        "\n",
        "Subset2 <-cutoff.k.percent(Scores, 0.2)\n",
        "as.data.frame(Subset2)\n"
      ],
      "execution_count": null,
      "outputs": [
        {
          "output_type": "display_data",
          "data": {
            "text/plain": [
              "  Subset2     \n",
              "1 Tax         \n",
              "2 cogs        \n",
              "3 gross.income\n",
              "4 Quantity    \n",
              "5 Unit.price  "
            ],
            "text/latex": "A data.frame: 5 × 1\n\\begin{tabular}{l}\n Subset2\\\\\n <chr>\\\\\n\\hline\n\t Tax         \\\\\n\t cogs        \\\\\n\t gross.income\\\\\n\t Quantity    \\\\\n\t Unit.price  \\\\\n\\end{tabular}\n",
            "text/markdown": "\nA data.frame: 5 × 1\n\n| Subset2 &lt;chr&gt; |\n|---|\n| Tax          |\n| cogs         |\n| gross.income |\n| Quantity     |\n| Unit.price   |\n\n",
            "text/html": [
              "<table class=\"dataframe\">\n",
              "<caption>A data.frame: 5 × 1</caption>\n",
              "<thead>\n",
              "\t<tr><th scope=col>Subset2</th></tr>\n",
              "\t<tr><th scope=col>&lt;chr&gt;</th></tr>\n",
              "</thead>\n",
              "<tbody>\n",
              "\t<tr><td>Tax         </td></tr>\n",
              "\t<tr><td>cogs        </td></tr>\n",
              "\t<tr><td>gross.income</td></tr>\n",
              "\t<tr><td>Quantity    </td></tr>\n",
              "\t<tr><td>Unit.price  </td></tr>\n",
              "</tbody>\n",
              "</table>\n"
            ]
          },
          "metadata": {
            "tags": []
          }
        }
      ]
    },
    {
      "cell_type": "markdown",
      "metadata": {
        "id": "yjM4g4w9HavW"
      },
      "source": [
        "All the methods narrowed down to the most important features to be used for analysis. "
      ]
    }
  ]
}